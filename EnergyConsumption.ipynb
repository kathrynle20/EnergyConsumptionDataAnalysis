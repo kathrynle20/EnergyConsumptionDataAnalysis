{
  "nbformat": 4,
  "nbformat_minor": 0,
  "metadata": {
    "colab": {
      "name": "EnergyConsumption.ipynb",
      "provenance": [],
      "collapsed_sections": [],
      "toc_visible": true,
      "include_colab_link": true
    },
    "kernelspec": {
      "name": "python3",
      "display_name": "Python 3"
    }
  },
  "cells": [
    {
      "cell_type": "markdown",
      "metadata": {
        "id": "view-in-github",
        "colab_type": "text"
      },
      "source": [
        "<a href=\"https://colab.research.google.com/github/kathrynle20/EnergyConsumptionDataAnalysis/blob/master/EnergyConsumption.ipynb\" target=\"_parent\"><img src=\"https://colab.research.google.com/assets/colab-badge.svg\" alt=\"Open In Colab\"/></a>"
      ]
    },
    {
      "cell_type": "markdown",
      "metadata": {
        "id": "KQwrMYvlrfJ-",
        "colab_type": "text"
      },
      "source": [
        "# Importing Data\n"
      ]
    },
    {
      "cell_type": "code",
      "metadata": {
        "id": "hdReGFA2rlV7",
        "colab_type": "code",
        "colab": {
          "base_uri": "https://localhost:8080/",
          "height": 34
        },
        "outputId": "9958cb84-b977-4d57-b5c4-f6389f447a1a"
      },
      "source": [
        "import pandas\n",
        "import pandas as pd\n",
        "import numpy as np\n",
        "\n",
        "from google.colab import drive\n",
        "drive.mount('/content/gdrive')\n",
        "\n",
        "df = pd.read_csv('/content/gdrive/My Drive/Energy.csv')"
      ],
      "execution_count": null,
      "outputs": [
        {
          "output_type": "stream",
          "text": [
            "Drive already mounted at /content/gdrive; to attempt to forcibly remount, call drive.mount(\"/content/gdrive\", force_remount=True).\n"
          ],
          "name": "stdout"
        }
      ]
    },
    {
      "cell_type": "code",
      "metadata": {
        "id": "VfhsZxUgyqmr",
        "colab_type": "code",
        "colab": {
          "base_uri": "https://localhost:8080/",
          "height": 187
        },
        "outputId": "c7081331-9dda-4ea6-db94-346088b6946d"
      },
      "source": [
        "df['Datetime'] = pd.to_datetime(df['Datetime'])\n",
        "df.dtypes"
      ],
      "execution_count": null,
      "outputs": [
        {
          "output_type": "execute_result",
          "data": {
            "text/plain": [
              "Datetime    datetime64[ns]\n",
              "AEP                  int64\n",
              "DAYTON               int64\n",
              "DOM                  int64\n",
              "DUQ                  int64\n",
              "NI                   int64\n",
              "PJME                 int64\n",
              "PJMW                 int64\n",
              "Total                int64\n",
              "dtype: object"
            ]
          },
          "metadata": {
            "tags": []
          },
          "execution_count": 253
        }
      ]
    },
    {
      "cell_type": "code",
      "metadata": {
        "id": "E5T7q0LCrzHx",
        "colab_type": "code",
        "colab": {
          "base_uri": "https://localhost:8080/",
          "height": 235
        },
        "outputId": "0c4bf3a3-cf68-4f45-c9fb-205452f8c287"
      },
      "source": [
        "df1 = df.set_index(\"Datetime\")\n",
        "df1.head()"
      ],
      "execution_count": null,
      "outputs": [
        {
          "output_type": "execute_result",
          "data": {
            "text/html": [
              "<div>\n",
              "<style scoped>\n",
              "    .dataframe tbody tr th:only-of-type {\n",
              "        vertical-align: middle;\n",
              "    }\n",
              "\n",
              "    .dataframe tbody tr th {\n",
              "        vertical-align: top;\n",
              "    }\n",
              "\n",
              "    .dataframe thead th {\n",
              "        text-align: right;\n",
              "    }\n",
              "</style>\n",
              "<table border=\"1\" class=\"dataframe\">\n",
              "  <thead>\n",
              "    <tr style=\"text-align: right;\">\n",
              "      <th></th>\n",
              "      <th>AEP</th>\n",
              "      <th>DAYTON</th>\n",
              "      <th>DOM</th>\n",
              "      <th>DUQ</th>\n",
              "      <th>NI</th>\n",
              "      <th>PJME</th>\n",
              "      <th>PJMW</th>\n",
              "      <th>Total</th>\n",
              "    </tr>\n",
              "    <tr>\n",
              "      <th>Datetime</th>\n",
              "      <th></th>\n",
              "      <th></th>\n",
              "      <th></th>\n",
              "      <th></th>\n",
              "      <th></th>\n",
              "      <th></th>\n",
              "      <th></th>\n",
              "      <th></th>\n",
              "    </tr>\n",
              "  </thead>\n",
              "  <tbody>\n",
              "    <tr>\n",
              "      <th>2006-01-01 01:00:00</th>\n",
              "      <td>14287</td>\n",
              "      <td>1697</td>\n",
              "      <td>9258</td>\n",
              "      <td>1255</td>\n",
              "      <td>10206</td>\n",
              "      <td>28884</td>\n",
              "      <td>4768</td>\n",
              "      <td>70355</td>\n",
              "    </tr>\n",
              "    <tr>\n",
              "      <th>2006-01-01 02:00:00</th>\n",
              "      <td>13932</td>\n",
              "      <td>1635</td>\n",
              "      <td>8987</td>\n",
              "      <td>1338</td>\n",
              "      <td>9808</td>\n",
              "      <td>27556</td>\n",
              "      <td>4613</td>\n",
              "      <td>67869</td>\n",
              "    </tr>\n",
              "    <tr>\n",
              "      <th>2006-01-01 03:00:00</th>\n",
              "      <td>13713</td>\n",
              "      <td>1584</td>\n",
              "      <td>8781</td>\n",
              "      <td>1276</td>\n",
              "      <td>9389</td>\n",
              "      <td>26484</td>\n",
              "      <td>4436</td>\n",
              "      <td>65663</td>\n",
              "    </tr>\n",
              "    <tr>\n",
              "      <th>2006-01-01 04:00:00</th>\n",
              "      <td>13656</td>\n",
              "      <td>1553</td>\n",
              "      <td>8680</td>\n",
              "      <td>1251</td>\n",
              "      <td>9034</td>\n",
              "      <td>25822</td>\n",
              "      <td>4362</td>\n",
              "      <td>64358</td>\n",
              "    </tr>\n",
              "    <tr>\n",
              "      <th>2006-01-01 05:00:00</th>\n",
              "      <td>13635</td>\n",
              "      <td>1555</td>\n",
              "      <td>8671</td>\n",
              "      <td>1228</td>\n",
              "      <td>8851</td>\n",
              "      <td>25530</td>\n",
              "      <td>4390</td>\n",
              "      <td>63860</td>\n",
              "    </tr>\n",
              "  </tbody>\n",
              "</table>\n",
              "</div>"
            ],
            "text/plain": [
              "                       AEP  DAYTON   DOM   DUQ     NI   PJME  PJMW  Total\n",
              "Datetime                                                                 \n",
              "2006-01-01 01:00:00  14287    1697  9258  1255  10206  28884  4768  70355\n",
              "2006-01-01 02:00:00  13932    1635  8987  1338   9808  27556  4613  67869\n",
              "2006-01-01 03:00:00  13713    1584  8781  1276   9389  26484  4436  65663\n",
              "2006-01-01 04:00:00  13656    1553  8680  1251   9034  25822  4362  64358\n",
              "2006-01-01 05:00:00  13635    1555  8671  1228   8851  25530  4390  63860"
            ]
          },
          "metadata": {
            "tags": []
          },
          "execution_count": 254
        }
      ]
    },
    {
      "cell_type": "code",
      "metadata": {
        "id": "FhxRjq0vr_bG",
        "colab_type": "code",
        "colab": {
          "base_uri": "https://localhost:8080/",
          "height": 431
        },
        "outputId": "b1fadf54-92d2-45bd-ef0f-fcc5def1da31"
      },
      "source": [
        "df1['Year'] = df1.index.year\n",
        "df1['Month'] = df1.index.month\n",
        "df1['Day'] = df1.index.day\n",
        "df1['Weekday'] = df1.index.weekday\n",
        "df1['Hour'] = df1.index.hour\n",
        "df1"
      ],
      "execution_count": null,
      "outputs": [
        {
          "output_type": "execute_result",
          "data": {
            "text/html": [
              "<div>\n",
              "<style scoped>\n",
              "    .dataframe tbody tr th:only-of-type {\n",
              "        vertical-align: middle;\n",
              "    }\n",
              "\n",
              "    .dataframe tbody tr th {\n",
              "        vertical-align: top;\n",
              "    }\n",
              "\n",
              "    .dataframe thead th {\n",
              "        text-align: right;\n",
              "    }\n",
              "</style>\n",
              "<table border=\"1\" class=\"dataframe\">\n",
              "  <thead>\n",
              "    <tr style=\"text-align: right;\">\n",
              "      <th></th>\n",
              "      <th>AEP</th>\n",
              "      <th>DAYTON</th>\n",
              "      <th>DOM</th>\n",
              "      <th>DUQ</th>\n",
              "      <th>NI</th>\n",
              "      <th>PJME</th>\n",
              "      <th>PJMW</th>\n",
              "      <th>Total</th>\n",
              "      <th>Year</th>\n",
              "      <th>Month</th>\n",
              "      <th>Day</th>\n",
              "      <th>Weekday</th>\n",
              "      <th>Total_Difference</th>\n",
              "      <th>Hour</th>\n",
              "    </tr>\n",
              "    <tr>\n",
              "      <th>Datetime</th>\n",
              "      <th></th>\n",
              "      <th></th>\n",
              "      <th></th>\n",
              "      <th></th>\n",
              "      <th></th>\n",
              "      <th></th>\n",
              "      <th></th>\n",
              "      <th></th>\n",
              "      <th></th>\n",
              "      <th></th>\n",
              "      <th></th>\n",
              "      <th></th>\n",
              "      <th></th>\n",
              "      <th></th>\n",
              "    </tr>\n",
              "  </thead>\n",
              "  <tbody>\n",
              "    <tr>\n",
              "      <th>2006-01-01 01:00:00</th>\n",
              "      <td>14287</td>\n",
              "      <td>1697</td>\n",
              "      <td>9258</td>\n",
              "      <td>1255</td>\n",
              "      <td>10206</td>\n",
              "      <td>28884</td>\n",
              "      <td>4768</td>\n",
              "      <td>70355</td>\n",
              "      <td>2006</td>\n",
              "      <td>1</td>\n",
              "      <td>1</td>\n",
              "      <td>6</td>\n",
              "      <td>NaN</td>\n",
              "      <td>1</td>\n",
              "    </tr>\n",
              "    <tr>\n",
              "      <th>2006-01-01 02:00:00</th>\n",
              "      <td>13932</td>\n",
              "      <td>1635</td>\n",
              "      <td>8987</td>\n",
              "      <td>1338</td>\n",
              "      <td>9808</td>\n",
              "      <td>27556</td>\n",
              "      <td>4613</td>\n",
              "      <td>67869</td>\n",
              "      <td>2006</td>\n",
              "      <td>1</td>\n",
              "      <td>1</td>\n",
              "      <td>6</td>\n",
              "      <td>-2486.0</td>\n",
              "      <td>2</td>\n",
              "    </tr>\n",
              "    <tr>\n",
              "      <th>2006-01-01 03:00:00</th>\n",
              "      <td>13713</td>\n",
              "      <td>1584</td>\n",
              "      <td>8781</td>\n",
              "      <td>1276</td>\n",
              "      <td>9389</td>\n",
              "      <td>26484</td>\n",
              "      <td>4436</td>\n",
              "      <td>65663</td>\n",
              "      <td>2006</td>\n",
              "      <td>1</td>\n",
              "      <td>1</td>\n",
              "      <td>6</td>\n",
              "      <td>-2206.0</td>\n",
              "      <td>3</td>\n",
              "    </tr>\n",
              "    <tr>\n",
              "      <th>2006-01-01 04:00:00</th>\n",
              "      <td>13656</td>\n",
              "      <td>1553</td>\n",
              "      <td>8680</td>\n",
              "      <td>1251</td>\n",
              "      <td>9034</td>\n",
              "      <td>25822</td>\n",
              "      <td>4362</td>\n",
              "      <td>64358</td>\n",
              "      <td>2006</td>\n",
              "      <td>1</td>\n",
              "      <td>1</td>\n",
              "      <td>6</td>\n",
              "      <td>-1305.0</td>\n",
              "      <td>4</td>\n",
              "    </tr>\n",
              "    <tr>\n",
              "      <th>2006-01-01 05:00:00</th>\n",
              "      <td>13635</td>\n",
              "      <td>1555</td>\n",
              "      <td>8671</td>\n",
              "      <td>1228</td>\n",
              "      <td>8851</td>\n",
              "      <td>25530</td>\n",
              "      <td>4390</td>\n",
              "      <td>63860</td>\n",
              "      <td>2006</td>\n",
              "      <td>1</td>\n",
              "      <td>1</td>\n",
              "      <td>6</td>\n",
              "      <td>-498.0</td>\n",
              "      <td>5</td>\n",
              "    </tr>\n",
              "    <tr>\n",
              "      <th>...</th>\n",
              "      <td>...</td>\n",
              "      <td>...</td>\n",
              "      <td>...</td>\n",
              "      <td>...</td>\n",
              "      <td>...</td>\n",
              "      <td>...</td>\n",
              "      <td>...</td>\n",
              "      <td>...</td>\n",
              "      <td>...</td>\n",
              "      <td>...</td>\n",
              "      <td>...</td>\n",
              "      <td>...</td>\n",
              "      <td>...</td>\n",
              "      <td>...</td>\n",
              "    </tr>\n",
              "    <tr>\n",
              "      <th>2010-12-31 20:00:00</th>\n",
              "      <td>15127</td>\n",
              "      <td>1697</td>\n",
              "      <td>11820</td>\n",
              "      <td>1696</td>\n",
              "      <td>11585</td>\n",
              "      <td>35035</td>\n",
              "      <td>5655</td>\n",
              "      <td>82615</td>\n",
              "      <td>2010</td>\n",
              "      <td>12</td>\n",
              "      <td>31</td>\n",
              "      <td>4</td>\n",
              "      <td>-2074.0</td>\n",
              "      <td>20</td>\n",
              "    </tr>\n",
              "    <tr>\n",
              "      <th>2010-12-31 21:00:00</th>\n",
              "      <td>14807</td>\n",
              "      <td>1623</td>\n",
              "      <td>11532</td>\n",
              "      <td>1643</td>\n",
              "      <td>11243</td>\n",
              "      <td>33852</td>\n",
              "      <td>5488</td>\n",
              "      <td>80188</td>\n",
              "      <td>2010</td>\n",
              "      <td>12</td>\n",
              "      <td>31</td>\n",
              "      <td>4</td>\n",
              "      <td>-2427.0</td>\n",
              "      <td>21</td>\n",
              "    </tr>\n",
              "    <tr>\n",
              "      <th>2010-12-31 22:00:00</th>\n",
              "      <td>14450</td>\n",
              "      <td>1563</td>\n",
              "      <td>11180</td>\n",
              "      <td>1583</td>\n",
              "      <td>10825</td>\n",
              "      <td>32550</td>\n",
              "      <td>5305</td>\n",
              "      <td>77456</td>\n",
              "      <td>2010</td>\n",
              "      <td>12</td>\n",
              "      <td>31</td>\n",
              "      <td>4</td>\n",
              "      <td>-2732.0</td>\n",
              "      <td>22</td>\n",
              "    </tr>\n",
              "    <tr>\n",
              "      <th>2010-12-31 23:00:00</th>\n",
              "      <td>14089</td>\n",
              "      <td>1501</td>\n",
              "      <td>10809</td>\n",
              "      <td>1524</td>\n",
              "      <td>10511</td>\n",
              "      <td>31162</td>\n",
              "      <td>5113</td>\n",
              "      <td>74709</td>\n",
              "      <td>2010</td>\n",
              "      <td>12</td>\n",
              "      <td>31</td>\n",
              "      <td>4</td>\n",
              "      <td>-2747.0</td>\n",
              "      <td>23</td>\n",
              "    </tr>\n",
              "    <tr>\n",
              "      <th>2011-01-01 00:00:00</th>\n",
              "      <td>13694</td>\n",
              "      <td>1436</td>\n",
              "      <td>10480</td>\n",
              "      <td>1454</td>\n",
              "      <td>10042</td>\n",
              "      <td>29871</td>\n",
              "      <td>4910</td>\n",
              "      <td>71887</td>\n",
              "      <td>2011</td>\n",
              "      <td>1</td>\n",
              "      <td>1</td>\n",
              "      <td>5</td>\n",
              "      <td>-2822.0</td>\n",
              "      <td>0</td>\n",
              "    </tr>\n",
              "  </tbody>\n",
              "</table>\n",
              "<p>43813 rows × 14 columns</p>\n",
              "</div>"
            ],
            "text/plain": [
              "                       AEP  DAYTON    DOM  ...  Weekday  Total_Difference  Hour\n",
              "Datetime                                   ...                                 \n",
              "2006-01-01 01:00:00  14287    1697   9258  ...        6               NaN     1\n",
              "2006-01-01 02:00:00  13932    1635   8987  ...        6           -2486.0     2\n",
              "2006-01-01 03:00:00  13713    1584   8781  ...        6           -2206.0     3\n",
              "2006-01-01 04:00:00  13656    1553   8680  ...        6           -1305.0     4\n",
              "2006-01-01 05:00:00  13635    1555   8671  ...        6            -498.0     5\n",
              "...                    ...     ...    ...  ...      ...               ...   ...\n",
              "2010-12-31 20:00:00  15127    1697  11820  ...        4           -2074.0    20\n",
              "2010-12-31 21:00:00  14807    1623  11532  ...        4           -2427.0    21\n",
              "2010-12-31 22:00:00  14450    1563  11180  ...        4           -2732.0    22\n",
              "2010-12-31 23:00:00  14089    1501  10809  ...        4           -2747.0    23\n",
              "2011-01-01 00:00:00  13694    1436  10480  ...        5           -2822.0     0\n",
              "\n",
              "[43813 rows x 14 columns]"
            ]
          },
          "metadata": {
            "tags": []
          },
          "execution_count": 152
        }
      ]
    },
    {
      "cell_type": "code",
      "metadata": {
        "id": "Vs8Ighg0E0o6",
        "colab_type": "code",
        "colab": {}
      },
      "source": [
        "from sklearn.linear_model import LinearRegression\n",
        "LR = LinearRegression()\n",
        "\n",
        "from sklearn.neighbors import KNeighborsClassifier\n",
        "KNN = KNeighborsClassifier(n_neighbors=3)\n",
        "\n",
        "from sklearn.model_selection import TimeSeriesSplit\n",
        "\n",
        "from sklearn.model_selection import cross_val_score"
      ],
      "execution_count": null,
      "outputs": []
    },
    {
      "cell_type": "markdown",
      "metadata": {
        "id": "2HLcPWpstm38",
        "colab_type": "text"
      },
      "source": [
        "# Data Analysis"
      ]
    },
    {
      "cell_type": "code",
      "metadata": {
        "id": "VCkKVdeGtsFi",
        "colab_type": "code",
        "colab": {
          "base_uri": "https://localhost:8080/",
          "height": 419
        },
        "outputId": "8296bc82-2756-4bbb-fb30-8899bcb11371"
      },
      "source": [
        "df "
      ],
      "execution_count": null,
      "outputs": [
        {
          "output_type": "execute_result",
          "data": {
            "text/html": [
              "<div>\n",
              "<style scoped>\n",
              "    .dataframe tbody tr th:only-of-type {\n",
              "        vertical-align: middle;\n",
              "    }\n",
              "\n",
              "    .dataframe tbody tr th {\n",
              "        vertical-align: top;\n",
              "    }\n",
              "\n",
              "    .dataframe thead th {\n",
              "        text-align: right;\n",
              "    }\n",
              "</style>\n",
              "<table border=\"1\" class=\"dataframe\">\n",
              "  <thead>\n",
              "    <tr style=\"text-align: right;\">\n",
              "      <th></th>\n",
              "      <th>Datetime</th>\n",
              "      <th>AEP</th>\n",
              "      <th>DAYTON</th>\n",
              "      <th>DOM</th>\n",
              "      <th>DUQ</th>\n",
              "      <th>NI</th>\n",
              "      <th>PJME</th>\n",
              "      <th>PJMW</th>\n",
              "      <th>Total</th>\n",
              "    </tr>\n",
              "  </thead>\n",
              "  <tbody>\n",
              "    <tr>\n",
              "      <th>0</th>\n",
              "      <td>2006-01-01 01:00:00</td>\n",
              "      <td>14287</td>\n",
              "      <td>1697</td>\n",
              "      <td>9258</td>\n",
              "      <td>1255</td>\n",
              "      <td>10206</td>\n",
              "      <td>28884</td>\n",
              "      <td>4768</td>\n",
              "      <td>70355</td>\n",
              "    </tr>\n",
              "    <tr>\n",
              "      <th>1</th>\n",
              "      <td>2006-01-01 02:00:00</td>\n",
              "      <td>13932</td>\n",
              "      <td>1635</td>\n",
              "      <td>8987</td>\n",
              "      <td>1338</td>\n",
              "      <td>9808</td>\n",
              "      <td>27556</td>\n",
              "      <td>4613</td>\n",
              "      <td>67869</td>\n",
              "    </tr>\n",
              "    <tr>\n",
              "      <th>2</th>\n",
              "      <td>2006-01-01 03:00:00</td>\n",
              "      <td>13713</td>\n",
              "      <td>1584</td>\n",
              "      <td>8781</td>\n",
              "      <td>1276</td>\n",
              "      <td>9389</td>\n",
              "      <td>26484</td>\n",
              "      <td>4436</td>\n",
              "      <td>65663</td>\n",
              "    </tr>\n",
              "    <tr>\n",
              "      <th>3</th>\n",
              "      <td>2006-01-01 04:00:00</td>\n",
              "      <td>13656</td>\n",
              "      <td>1553</td>\n",
              "      <td>8680</td>\n",
              "      <td>1251</td>\n",
              "      <td>9034</td>\n",
              "      <td>25822</td>\n",
              "      <td>4362</td>\n",
              "      <td>64358</td>\n",
              "    </tr>\n",
              "    <tr>\n",
              "      <th>4</th>\n",
              "      <td>2006-01-01 05:00:00</td>\n",
              "      <td>13635</td>\n",
              "      <td>1555</td>\n",
              "      <td>8671</td>\n",
              "      <td>1228</td>\n",
              "      <td>8851</td>\n",
              "      <td>25530</td>\n",
              "      <td>4390</td>\n",
              "      <td>63860</td>\n",
              "    </tr>\n",
              "    <tr>\n",
              "      <th>...</th>\n",
              "      <td>...</td>\n",
              "      <td>...</td>\n",
              "      <td>...</td>\n",
              "      <td>...</td>\n",
              "      <td>...</td>\n",
              "      <td>...</td>\n",
              "      <td>...</td>\n",
              "      <td>...</td>\n",
              "      <td>...</td>\n",
              "    </tr>\n",
              "    <tr>\n",
              "      <th>43808</th>\n",
              "      <td>2010-12-31 20:00:00</td>\n",
              "      <td>15127</td>\n",
              "      <td>1697</td>\n",
              "      <td>11820</td>\n",
              "      <td>1696</td>\n",
              "      <td>11585</td>\n",
              "      <td>35035</td>\n",
              "      <td>5655</td>\n",
              "      <td>82615</td>\n",
              "    </tr>\n",
              "    <tr>\n",
              "      <th>43809</th>\n",
              "      <td>2010-12-31 21:00:00</td>\n",
              "      <td>14807</td>\n",
              "      <td>1623</td>\n",
              "      <td>11532</td>\n",
              "      <td>1643</td>\n",
              "      <td>11243</td>\n",
              "      <td>33852</td>\n",
              "      <td>5488</td>\n",
              "      <td>80188</td>\n",
              "    </tr>\n",
              "    <tr>\n",
              "      <th>43810</th>\n",
              "      <td>2010-12-31 22:00:00</td>\n",
              "      <td>14450</td>\n",
              "      <td>1563</td>\n",
              "      <td>11180</td>\n",
              "      <td>1583</td>\n",
              "      <td>10825</td>\n",
              "      <td>32550</td>\n",
              "      <td>5305</td>\n",
              "      <td>77456</td>\n",
              "    </tr>\n",
              "    <tr>\n",
              "      <th>43811</th>\n",
              "      <td>2010-12-31 23:00:00</td>\n",
              "      <td>14089</td>\n",
              "      <td>1501</td>\n",
              "      <td>10809</td>\n",
              "      <td>1524</td>\n",
              "      <td>10511</td>\n",
              "      <td>31162</td>\n",
              "      <td>5113</td>\n",
              "      <td>74709</td>\n",
              "    </tr>\n",
              "    <tr>\n",
              "      <th>43812</th>\n",
              "      <td>2011-01-01 00:00:00</td>\n",
              "      <td>13694</td>\n",
              "      <td>1436</td>\n",
              "      <td>10480</td>\n",
              "      <td>1454</td>\n",
              "      <td>10042</td>\n",
              "      <td>29871</td>\n",
              "      <td>4910</td>\n",
              "      <td>71887</td>\n",
              "    </tr>\n",
              "  </tbody>\n",
              "</table>\n",
              "<p>43813 rows × 9 columns</p>\n",
              "</div>"
            ],
            "text/plain": [
              "                 Datetime    AEP  DAYTON    DOM  ...     NI   PJME  PJMW  Total\n",
              "0     2006-01-01 01:00:00  14287    1697   9258  ...  10206  28884  4768  70355\n",
              "1     2006-01-01 02:00:00  13932    1635   8987  ...   9808  27556  4613  67869\n",
              "2     2006-01-01 03:00:00  13713    1584   8781  ...   9389  26484  4436  65663\n",
              "3     2006-01-01 04:00:00  13656    1553   8680  ...   9034  25822  4362  64358\n",
              "4     2006-01-01 05:00:00  13635    1555   8671  ...   8851  25530  4390  63860\n",
              "...                   ...    ...     ...    ...  ...    ...    ...   ...    ...\n",
              "43808 2010-12-31 20:00:00  15127    1697  11820  ...  11585  35035  5655  82615\n",
              "43809 2010-12-31 21:00:00  14807    1623  11532  ...  11243  33852  5488  80188\n",
              "43810 2010-12-31 22:00:00  14450    1563  11180  ...  10825  32550  5305  77456\n",
              "43811 2010-12-31 23:00:00  14089    1501  10809  ...  10511  31162  5113  74709\n",
              "43812 2011-01-01 00:00:00  13694    1436  10480  ...  10042  29871  4910  71887\n",
              "\n",
              "[43813 rows x 9 columns]"
            ]
          },
          "metadata": {
            "tags": []
          },
          "execution_count": 257
        }
      ]
    },
    {
      "cell_type": "code",
      "metadata": {
        "id": "zRtGUZWfm2jM",
        "colab_type": "code",
        "colab": {
          "base_uri": "https://localhost:8080/",
          "height": 153
        },
        "outputId": "431641df-8502-4729-f1bf-b7542b6f9343"
      },
      "source": [
        "print(df.Total.mean())\n",
        "print(df.AEP.mean())\n",
        "print(df.DAYTON.mean())\n",
        "print(df.DOM.mean())\n",
        "print(df.DUQ.mean()) # least energy consumption\n",
        "print(df.NI.mean())\n",
        "print(df.PJME.mean()) # most energy consumption\n",
        "print(df.PJMW.mean())"
      ],
      "execution_count": null,
      "outputs": [
        {
          "output_type": "stream",
          "text": [
            "80633.35064935064\n",
            "16036.680848150092\n",
            "2076.1683062104853\n",
            "10842.360577910666\n",
            "1670.5146645972657\n",
            "11735.629995663388\n",
            "32781.07205623901\n",
            "5490.924200579737\n"
          ],
          "name": "stdout"
        }
      ]
    },
    {
      "cell_type": "markdown",
      "metadata": {
        "id": "yuulUsAlwElU",
        "colab_type": "text"
      },
      "source": [
        "# Graphs"
      ]
    },
    {
      "cell_type": "code",
      "metadata": {
        "id": "zxZGTLqKwG1y",
        "colab_type": "code",
        "colab": {
          "base_uri": "https://localhost:8080/",
          "height": 284
        },
        "outputId": "570979e9-c5e6-4e60-e135-17fcefcefeeb"
      },
      "source": [
        "df.Total.hist()"
      ],
      "execution_count": null,
      "outputs": [
        {
          "output_type": "execute_result",
          "data": {
            "text/plain": [
              "<matplotlib.axes._subplots.AxesSubplot at 0x7f0b992852e8>"
            ]
          },
          "metadata": {
            "tags": []
          },
          "execution_count": 259
        },
        {
          "output_type": "display_data",
          "data": {
            "image/png": "[encoded data removed]",
            "text/plain": [
              "<Figure size 432x288 with 1 Axes>"
            ]
          },
          "metadata": {
            "tags": [],
            "needs_background": "light"
          }
        }
      ]
    },
    {
      "cell_type": "code",
      "metadata": {
        "id": "OR29n7XRwb1J",
        "colab_type": "code",
        "colab": {
          "base_uri": "https://localhost:8080/",
          "height": 296
        },
        "outputId": "b928dcf3-64ef-47e7-d7d7-b893034c74c4"
      },
      "source": [
        "df.plot(kind='scatter',y='Total',x='Datetime')"
      ],
      "execution_count": null,
      "outputs": [
        {
          "output_type": "execute_result",
          "data": {
            "text/plain": [
              "<matplotlib.axes._subplots.AxesSubplot at 0x7f0b98ff5860>"
            ]
          },
          "metadata": {
            "tags": []
          },
          "execution_count": 260
        },
        {
          "output_type": "display_data",
          "data": {
            "image/png": "[encoded data removed]",
            "text/plain": [
              "<Figure size 432x288 with 1 Axes>"
            ]
          },
          "metadata": {
            "tags": [],
            "needs_background": "light"
          }
        }
      ]
    },
    {
      "cell_type": "code",
      "metadata": {
        "id": "k33Z_wgGz_3j",
        "colab_type": "code",
        "colab": {
          "base_uri": "https://localhost:8080/",
          "height": 286
        },
        "outputId": "ceddd917-4e02-4af3-c31e-801009d5717d"
      },
      "source": [
        "df.plot.line(x='Datetime',y=\"Total\")"
      ],
      "execution_count": null,
      "outputs": [
        {
          "output_type": "execute_result",
          "data": {
            "text/plain": [
              "<matplotlib.axes._subplots.AxesSubplot at 0x7f0b99256cf8>"
            ]
          },
          "metadata": {
            "tags": []
          },
          "execution_count": 261
        },
        {
          "output_type": "display_data",
          "data": {
            "image/png": "[encoded data removed]",
            "text/plain": [
              "<Figure size 432x288 with 1 Axes>"
            ]
          },
          "metadata": {
            "tags": [],
            "needs_background": "light"
          }
        }
      ]
    },
    {
      "cell_type": "code",
      "metadata": {
        "id": "_nL94lc26yDR",
        "colab_type": "code",
        "colab": {}
      },
      "source": [
        "df2 = df1.loc[df1['Year'] == 2006]\n",
        "df4 = df2.loc[df2['Month']==1]\n",
        "df5 = df4.loc[df4['Day']==1]"
      ],
      "execution_count": null,
      "outputs": []
    },
    {
      "cell_type": "code",
      "metadata": {
        "id": "ogTywidG9dmE",
        "colab_type": "code",
        "colab": {
          "base_uri": "https://localhost:8080/",
          "height": 294
        },
        "outputId": "c9ea5c5a-b576-4ddb-ab69-d44662006211"
      },
      "source": [
        "df2.plot.line(y='Total')"
      ],
      "execution_count": null,
      "outputs": [
        {
          "output_type": "execute_result",
          "data": {
            "text/plain": [
              "<matplotlib.axes._subplots.AxesSubplot at 0x7f0b9906f9b0>"
            ]
          },
          "metadata": {
            "tags": []
          },
          "execution_count": 263
        },
        {
          "output_type": "display_data",
          "data": {
            "image/png": "[encoded data removed]",
            "text/plain": [
              "<Figure size 432x288 with 1 Axes>"
            ]
          },
          "metadata": {
            "tags": [],
            "needs_background": "light"
          }
        }
      ]
    },
    {
      "cell_type": "code",
      "metadata": {
        "id": "IchTQA0I6Z6U",
        "colab_type": "code",
        "colab": {
          "base_uri": "https://localhost:8080/",
          "height": 294
        },
        "outputId": "aa8a2d56-787c-436f-e57e-7812fb3130fa"
      },
      "source": [
        "df2.plot.line(y=['Total','AEP','PJME','DUQ'])"
      ],
      "execution_count": null,
      "outputs": [
        {
          "output_type": "execute_result",
          "data": {
            "text/plain": [
              "<matplotlib.axes._subplots.AxesSubplot at 0x7f0b98f0c908>"
            ]
          },
          "metadata": {
            "tags": []
          },
          "execution_count": 264
        },
        {
          "output_type": "display_data",
          "data": {
            "image/png": "[encoded data removed]",
            "text/plain": [
              "<Figure size 432x288 with 1 Axes>"
            ]
          },
          "metadata": {
            "tags": [],
            "needs_background": "light"
          }
        }
      ]
    },
    {
      "cell_type": "code",
      "metadata": {
        "id": "6Gz0tSek1eLt",
        "colab_type": "code",
        "colab": {
          "base_uri": "https://localhost:8080/",
          "height": 296
        },
        "outputId": "05020a04-3f92-42c6-fbd5-2e3f2dd08c3a"
      },
      "source": [
        "df1.plot.line(x='Year',y=\"Total\")"
      ],
      "execution_count": null,
      "outputs": [
        {
          "output_type": "execute_result",
          "data": {
            "text/plain": [
              "<matplotlib.axes._subplots.AxesSubplot at 0x7f0b99c03ba8>"
            ]
          },
          "metadata": {
            "tags": []
          },
          "execution_count": 265
        },
        {
          "output_type": "display_data",
          "data": {
            "image/png": "[encoded data removed]",
            "text/plain": [
              "<Figure size 432x288 with 1 Axes>"
            ]
          },
          "metadata": {
            "tags": [],
            "needs_background": "light"
          }
        }
      ]
    },
    {
      "cell_type": "code",
      "metadata": {
        "id": "qJJ2ml9k1jxw",
        "colab_type": "code",
        "colab": {
          "base_uri": "https://localhost:8080/",
          "height": 296
        },
        "outputId": "f24c4674-c943-423b-9170-ab7a20d418e8"
      },
      "source": [
        "df4.plot.line(x='Day',y=\"Total\")"
      ],
      "execution_count": null,
      "outputs": [
        {
          "output_type": "execute_result",
          "data": {
            "text/plain": [
              "<matplotlib.axes._subplots.AxesSubplot at 0x7f6769613898>"
            ]
          },
          "metadata": {
            "tags": []
          },
          "execution_count": 145
        },
        {
          "output_type": "display_data",
          "data": {
            "image/png": "[encoded data removed]",
            "text/plain": [
              "<Figure size 432x288 with 1 Axes>"
            ]
          },
          "metadata": {
            "tags": [],
            "needs_background": "light"
          }
        }
      ]
    },
    {
      "cell_type": "code",
      "metadata": {
        "id": "BaCyL_j1ojIY",
        "colab_type": "code",
        "colab": {
          "base_uri": "https://localhost:8080/",
          "height": 296
        },
        "outputId": "a924f476-4c08-4cf4-aed9-adf7cf6ed83f"
      },
      "source": [
        "df2.plot.line(x=\"Month\",y=\"Total\")"
      ],
      "execution_count": null,
      "outputs": [
        {
          "output_type": "execute_result",
          "data": {
            "text/plain": [
              "<matplotlib.axes._subplots.AxesSubplot at 0x7f0b9a61b940>"
            ]
          },
          "metadata": {
            "tags": []
          },
          "execution_count": 267
        },
        {
          "output_type": "display_data",
          "data": {
            "image/png": "[encoded data removed]",
            "text/plain": [
              "<Figure size 432x288 with 1 Axes>"
            ]
          },
          "metadata": {
            "tags": [],
            "needs_background": "light"
          }
        }
      ]
    },
    {
      "cell_type": "code",
      "metadata": {
        "id": "PSfBr1zMFwLe",
        "colab_type": "code",
        "colab": {
          "base_uri": "https://localhost:8080/",
          "height": 298
        },
        "outputId": "6d9d11e3-8f39-4837-dd01-e2a80352e820"
      },
      "source": [
        "df5.plot.line(x='Hour',y=\"Total\")"
      ],
      "execution_count": null,
      "outputs": [
        {
          "output_type": "execute_result",
          "data": {
            "text/plain": [
              "<matplotlib.axes._subplots.AxesSubplot at 0x7f67614b9160>"
            ]
          },
          "metadata": {
            "tags": []
          },
          "execution_count": 156
        },
        {
          "output_type": "display_data",
          "data": {
            "image/png": "[encoded data removed]",
            "text/plain": [
              "<Figure size 432x288 with 1 Axes>"
            ]
          },
          "metadata": {
            "tags": [],
            "needs_background": "light"
          }
        }
      ]
    },
    {
      "cell_type": "code",
      "metadata": {
        "id": "psZPFZucu7sl",
        "colab_type": "code",
        "colab": {
          "base_uri": "https://localhost:8080/",
          "height": 296
        },
        "outputId": "8bde5f33-f5fb-450d-d951-5be4501a3857"
      },
      "source": [
        "from matplotlib import pyplot as plt\n",
        "df2.plot.line(x='Month',y=['AEP','NI','DUQ','PJME'])"
      ],
      "execution_count": null,
      "outputs": [
        {
          "output_type": "execute_result",
          "data": {
            "text/plain": [
              "<matplotlib.axes._subplots.AxesSubplot at 0x7f0b98dc4278>"
            ]
          },
          "metadata": {
            "tags": []
          },
          "execution_count": 268
        },
        {
          "output_type": "display_data",
          "data": {
            "image/png": "[encoded data removed]",
            "text/plain": [
              "<Figure size 432x288 with 1 Axes>"
            ]
          },
          "metadata": {
            "tags": [],
            "needs_background": "light"
          }
        }
      ]
    },
    {
      "cell_type": "code",
      "metadata": {
        "id": "pcjisLcu0hZC",
        "colab_type": "code",
        "colab": {
          "base_uri": "https://localhost:8080/",
          "height": 824
        },
        "outputId": "8d47246f-a9f8-4a81-dd40-eb5328e46bcb"
      },
      "source": [
        "df1['Total_Difference'] = df1['Total'] - df1['Total'].shift(1)\n",
        "df1.head(24)"
      ],
      "execution_count": null,
      "outputs": [
        {
          "output_type": "execute_result",
          "data": {
            "text/html": [
              "<div>\n",
              "<style scoped>\n",
              "    .dataframe tbody tr th:only-of-type {\n",
              "        vertical-align: middle;\n",
              "    }\n",
              "\n",
              "    .dataframe tbody tr th {\n",
              "        vertical-align: top;\n",
              "    }\n",
              "\n",
              "    .dataframe thead th {\n",
              "        text-align: right;\n",
              "    }\n",
              "</style>\n",
              "<table border=\"1\" class=\"dataframe\">\n",
              "  <thead>\n",
              "    <tr style=\"text-align: right;\">\n",
              "      <th></th>\n",
              "      <th>AEP</th>\n",
              "      <th>DAYTON</th>\n",
              "      <th>DOM</th>\n",
              "      <th>DUQ</th>\n",
              "      <th>NI</th>\n",
              "      <th>PJME</th>\n",
              "      <th>PJMW</th>\n",
              "      <th>Total</th>\n",
              "      <th>Year</th>\n",
              "      <th>Month</th>\n",
              "      <th>Day</th>\n",
              "      <th>Weekday</th>\n",
              "      <th>Total_Difference</th>\n",
              "    </tr>\n",
              "    <tr>\n",
              "      <th>Datetime</th>\n",
              "      <th></th>\n",
              "      <th></th>\n",
              "      <th></th>\n",
              "      <th></th>\n",
              "      <th></th>\n",
              "      <th></th>\n",
              "      <th></th>\n",
              "      <th></th>\n",
              "      <th></th>\n",
              "      <th></th>\n",
              "      <th></th>\n",
              "      <th></th>\n",
              "      <th></th>\n",
              "    </tr>\n",
              "  </thead>\n",
              "  <tbody>\n",
              "    <tr>\n",
              "      <th>2006-01-01 01:00:00</th>\n",
              "      <td>14287</td>\n",
              "      <td>1697</td>\n",
              "      <td>9258</td>\n",
              "      <td>1255</td>\n",
              "      <td>10206</td>\n",
              "      <td>28884</td>\n",
              "      <td>4768</td>\n",
              "      <td>70355</td>\n",
              "      <td>2006</td>\n",
              "      <td>1</td>\n",
              "      <td>1</td>\n",
              "      <td>6</td>\n",
              "      <td>NaN</td>\n",
              "    </tr>\n",
              "    <tr>\n",
              "      <th>2006-01-01 02:00:00</th>\n",
              "      <td>13932</td>\n",
              "      <td>1635</td>\n",
              "      <td>8987</td>\n",
              "      <td>1338</td>\n",
              "      <td>9808</td>\n",
              "      <td>27556</td>\n",
              "      <td>4613</td>\n",
              "      <td>67869</td>\n",
              "      <td>2006</td>\n",
              "      <td>1</td>\n",
              "      <td>1</td>\n",
              "      <td>6</td>\n",
              "      <td>-2486.0</td>\n",
              "    </tr>\n",
              "    <tr>\n",
              "      <th>2006-01-01 03:00:00</th>\n",
              "      <td>13713</td>\n",
              "      <td>1584</td>\n",
              "      <td>8781</td>\n",
              "      <td>1276</td>\n",
              "      <td>9389</td>\n",
              "      <td>26484</td>\n",
              "      <td>4436</td>\n",
              "      <td>65663</td>\n",
              "      <td>2006</td>\n",
              "      <td>1</td>\n",
              "      <td>1</td>\n",
              "      <td>6</td>\n",
              "      <td>-2206.0</td>\n",
              "    </tr>\n",
              "    <tr>\n",
              "      <th>2006-01-01 04:00:00</th>\n",
              "      <td>13656</td>\n",
              "      <td>1553</td>\n",
              "      <td>8680</td>\n",
              "      <td>1251</td>\n",
              "      <td>9034</td>\n",
              "      <td>25822</td>\n",
              "      <td>4362</td>\n",
              "      <td>64358</td>\n",
              "      <td>2006</td>\n",
              "      <td>1</td>\n",
              "      <td>1</td>\n",
              "      <td>6</td>\n",
              "      <td>-1305.0</td>\n",
              "    </tr>\n",
              "    <tr>\n",
              "      <th>2006-01-01 05:00:00</th>\n",
              "      <td>13635</td>\n",
              "      <td>1555</td>\n",
              "      <td>8671</td>\n",
              "      <td>1228</td>\n",
              "      <td>8851</td>\n",
              "      <td>25530</td>\n",
              "      <td>4390</td>\n",
              "      <td>63860</td>\n",
              "      <td>2006</td>\n",
              "      <td>1</td>\n",
              "      <td>1</td>\n",
              "      <td>6</td>\n",
              "      <td>-498.0</td>\n",
              "    </tr>\n",
              "    <tr>\n",
              "      <th>2006-01-01 06:00:00</th>\n",
              "      <td>13850</td>\n",
              "      <td>1575</td>\n",
              "      <td>8900</td>\n",
              "      <td>1250</td>\n",
              "      <td>8801</td>\n",
              "      <td>25768</td>\n",
              "      <td>4424</td>\n",
              "      <td>64568</td>\n",
              "      <td>2006</td>\n",
              "      <td>1</td>\n",
              "      <td>1</td>\n",
              "      <td>6</td>\n",
              "      <td>708.0</td>\n",
              "    </tr>\n",
              "    <tr>\n",
              "      <th>2006-01-01 07:00:00</th>\n",
              "      <td>14199</td>\n",
              "      <td>1625</td>\n",
              "      <td>9276</td>\n",
              "      <td>1279</td>\n",
              "      <td>8858</td>\n",
              "      <td>26364</td>\n",
              "      <td>4529</td>\n",
              "      <td>66130</td>\n",
              "      <td>2006</td>\n",
              "      <td>1</td>\n",
              "      <td>1</td>\n",
              "      <td>6</td>\n",
              "      <td>1562.0</td>\n",
              "    </tr>\n",
              "    <tr>\n",
              "      <th>2006-01-01 08:00:00</th>\n",
              "      <td>14662</td>\n",
              "      <td>1675</td>\n",
              "      <td>9643</td>\n",
              "      <td>1313</td>\n",
              "      <td>9001</td>\n",
              "      <td>26865</td>\n",
              "      <td>4709</td>\n",
              "      <td>67868</td>\n",
              "      <td>2006</td>\n",
              "      <td>1</td>\n",
              "      <td>1</td>\n",
              "      <td>6</td>\n",
              "      <td>1738.0</td>\n",
              "    </tr>\n",
              "    <tr>\n",
              "      <th>2006-01-01 09:00:00</th>\n",
              "      <td>14952</td>\n",
              "      <td>1722</td>\n",
              "      <td>9941</td>\n",
              "      <td>1330</td>\n",
              "      <td>8996</td>\n",
              "      <td>27619</td>\n",
              "      <td>4894</td>\n",
              "      <td>69454</td>\n",
              "      <td>2006</td>\n",
              "      <td>1</td>\n",
              "      <td>1</td>\n",
              "      <td>6</td>\n",
              "      <td>1586.0</td>\n",
              "    </tr>\n",
              "    <tr>\n",
              "      <th>2006-01-01 10:00:00</th>\n",
              "      <td>15119</td>\n",
              "      <td>1764</td>\n",
              "      <td>10046</td>\n",
              "      <td>1392</td>\n",
              "      <td>9004</td>\n",
              "      <td>28676</td>\n",
              "      <td>5094</td>\n",
              "      <td>71095</td>\n",
              "      <td>2006</td>\n",
              "      <td>1</td>\n",
              "      <td>1</td>\n",
              "      <td>6</td>\n",
              "      <td>1641.0</td>\n",
              "    </tr>\n",
              "    <tr>\n",
              "      <th>2006-01-01 11:00:00</th>\n",
              "      <td>14925</td>\n",
              "      <td>1791</td>\n",
              "      <td>10064</td>\n",
              "      <td>1406</td>\n",
              "      <td>9176</td>\n",
              "      <td>29422</td>\n",
              "      <td>5190</td>\n",
              "      <td>71974</td>\n",
              "      <td>2006</td>\n",
              "      <td>1</td>\n",
              "      <td>1</td>\n",
              "      <td>6</td>\n",
              "      <td>879.0</td>\n",
              "    </tr>\n",
              "    <tr>\n",
              "      <th>2006-01-01 12:00:00</th>\n",
              "      <td>14636</td>\n",
              "      <td>1782</td>\n",
              "      <td>9887</td>\n",
              "      <td>1423</td>\n",
              "      <td>9347</td>\n",
              "      <td>29937</td>\n",
              "      <td>5243</td>\n",
              "      <td>72255</td>\n",
              "      <td>2006</td>\n",
              "      <td>1</td>\n",
              "      <td>1</td>\n",
              "      <td>6</td>\n",
              "      <td>281.0</td>\n",
              "    </tr>\n",
              "    <tr>\n",
              "      <th>2006-01-01 13:00:00</th>\n",
              "      <td>14475</td>\n",
              "      <td>1784</td>\n",
              "      <td>9789</td>\n",
              "      <td>1445</td>\n",
              "      <td>9464</td>\n",
              "      <td>30191</td>\n",
              "      <td>5221</td>\n",
              "      <td>72369</td>\n",
              "      <td>2006</td>\n",
              "      <td>1</td>\n",
              "      <td>1</td>\n",
              "      <td>6</td>\n",
              "      <td>114.0</td>\n",
              "    </tr>\n",
              "    <tr>\n",
              "      <th>2006-01-01 14:00:00</th>\n",
              "      <td>14161</td>\n",
              "      <td>1772</td>\n",
              "      <td>9583</td>\n",
              "      <td>1419</td>\n",
              "      <td>9628</td>\n",
              "      <td>30057</td>\n",
              "      <td>5069</td>\n",
              "      <td>71689</td>\n",
              "      <td>2006</td>\n",
              "      <td>1</td>\n",
              "      <td>1</td>\n",
              "      <td>6</td>\n",
              "      <td>-680.0</td>\n",
              "    </tr>\n",
              "    <tr>\n",
              "      <th>2006-01-01 15:00:00</th>\n",
              "      <td>13841</td>\n",
              "      <td>1754</td>\n",
              "      <td>9300</td>\n",
              "      <td>1420</td>\n",
              "      <td>9707</td>\n",
              "      <td>29701</td>\n",
              "      <td>4967</td>\n",
              "      <td>70690</td>\n",
              "      <td>2006</td>\n",
              "      <td>1</td>\n",
              "      <td>1</td>\n",
              "      <td>6</td>\n",
              "      <td>-999.0</td>\n",
              "    </tr>\n",
              "    <tr>\n",
              "      <th>2006-01-01 16:00:00</th>\n",
              "      <td>13748</td>\n",
              "      <td>1735</td>\n",
              "      <td>9182</td>\n",
              "      <td>1430</td>\n",
              "      <td>9752</td>\n",
              "      <td>29567</td>\n",
              "      <td>4940</td>\n",
              "      <td>70354</td>\n",
              "      <td>2006</td>\n",
              "      <td>1</td>\n",
              "      <td>1</td>\n",
              "      <td>6</td>\n",
              "      <td>-336.0</td>\n",
              "    </tr>\n",
              "    <tr>\n",
              "      <th>2006-01-01 17:00:00</th>\n",
              "      <td>14018</td>\n",
              "      <td>1757</td>\n",
              "      <td>9474</td>\n",
              "      <td>1488</td>\n",
              "      <td>10001</td>\n",
              "      <td>30792</td>\n",
              "      <td>5038</td>\n",
              "      <td>72568</td>\n",
              "      <td>2006</td>\n",
              "      <td>1</td>\n",
              "      <td>1</td>\n",
              "      <td>6</td>\n",
              "      <td>2214.0</td>\n",
              "    </tr>\n",
              "    <tr>\n",
              "      <th>2006-01-01 18:00:00</th>\n",
              "      <td>15141</td>\n",
              "      <td>1905</td>\n",
              "      <td>10737</td>\n",
              "      <td>1598</td>\n",
              "      <td>10749</td>\n",
              "      <td>33766</td>\n",
              "      <td>5508</td>\n",
              "      <td>79404</td>\n",
              "      <td>2006</td>\n",
              "      <td>1</td>\n",
              "      <td>1</td>\n",
              "      <td>6</td>\n",
              "      <td>6836.0</td>\n",
              "    </tr>\n",
              "    <tr>\n",
              "      <th>2006-01-01 19:00:00</th>\n",
              "      <td>15748</td>\n",
              "      <td>1972</td>\n",
              "      <td>11137</td>\n",
              "      <td>1619</td>\n",
              "      <td>11326</td>\n",
              "      <td>34305</td>\n",
              "      <td>5699</td>\n",
              "      <td>81806</td>\n",
              "      <td>2006</td>\n",
              "      <td>1</td>\n",
              "      <td>1</td>\n",
              "      <td>6</td>\n",
              "      <td>2402.0</td>\n",
              "    </tr>\n",
              "    <tr>\n",
              "      <th>2006-01-01 20:00:00</th>\n",
              "      <td>15813</td>\n",
              "      <td>1945</td>\n",
              "      <td>11107</td>\n",
              "      <td>1615</td>\n",
              "      <td>11267</td>\n",
              "      <td>34139</td>\n",
              "      <td>5709</td>\n",
              "      <td>81595</td>\n",
              "      <td>2006</td>\n",
              "      <td>1</td>\n",
              "      <td>1</td>\n",
              "      <td>6</td>\n",
              "      <td>-211.0</td>\n",
              "    </tr>\n",
              "    <tr>\n",
              "      <th>2006-01-01 21:00:00</th>\n",
              "      <td>15638</td>\n",
              "      <td>1902</td>\n",
              "      <td>11132</td>\n",
              "      <td>1595</td>\n",
              "      <td>11172</td>\n",
              "      <td>33878</td>\n",
              "      <td>5676</td>\n",
              "      <td>80993</td>\n",
              "      <td>2006</td>\n",
              "      <td>1</td>\n",
              "      <td>1</td>\n",
              "      <td>6</td>\n",
              "      <td>-602.0</td>\n",
              "    </tr>\n",
              "    <tr>\n",
              "      <th>2006-01-01 22:00:00</th>\n",
              "      <td>15381</td>\n",
              "      <td>1844</td>\n",
              "      <td>10872</td>\n",
              "      <td>1568</td>\n",
              "      <td>10937</td>\n",
              "      <td>33018</td>\n",
              "      <td>5513</td>\n",
              "      <td>79133</td>\n",
              "      <td>2006</td>\n",
              "      <td>1</td>\n",
              "      <td>1</td>\n",
              "      <td>6</td>\n",
              "      <td>-1860.0</td>\n",
              "    </tr>\n",
              "    <tr>\n",
              "      <th>2006-01-01 23:00:00</th>\n",
              "      <td>14743</td>\n",
              "      <td>1757</td>\n",
              "      <td>10467</td>\n",
              "      <td>1492</td>\n",
              "      <td>10669</td>\n",
              "      <td>31350</td>\n",
              "      <td>5289</td>\n",
              "      <td>75767</td>\n",
              "      <td>2006</td>\n",
              "      <td>1</td>\n",
              "      <td>1</td>\n",
              "      <td>6</td>\n",
              "      <td>-3366.0</td>\n",
              "    </tr>\n",
              "    <tr>\n",
              "      <th>2006-01-02 00:00:00</th>\n",
              "      <td>14116</td>\n",
              "      <td>1662</td>\n",
              "      <td>10029</td>\n",
              "      <td>1426</td>\n",
              "      <td>10137</td>\n",
              "      <td>29333</td>\n",
              "      <td>4963</td>\n",
              "      <td>71666</td>\n",
              "      <td>2006</td>\n",
              "      <td>1</td>\n",
              "      <td>2</td>\n",
              "      <td>0</td>\n",
              "      <td>-4101.0</td>\n",
              "    </tr>\n",
              "  </tbody>\n",
              "</table>\n",
              "</div>"
            ],
            "text/plain": [
              "                       AEP  DAYTON    DOM  ...  Day  Weekday  Total_Difference\n",
              "Datetime                                   ...                                \n",
              "2006-01-01 01:00:00  14287    1697   9258  ...    1        6               NaN\n",
              "2006-01-01 02:00:00  13932    1635   8987  ...    1        6           -2486.0\n",
              "2006-01-01 03:00:00  13713    1584   8781  ...    1        6           -2206.0\n",
              "2006-01-01 04:00:00  13656    1553   8680  ...    1        6           -1305.0\n",
              "2006-01-01 05:00:00  13635    1555   8671  ...    1        6            -498.0\n",
              "2006-01-01 06:00:00  13850    1575   8900  ...    1        6             708.0\n",
              "2006-01-01 07:00:00  14199    1625   9276  ...    1        6            1562.0\n",
              "2006-01-01 08:00:00  14662    1675   9643  ...    1        6            1738.0\n",
              "2006-01-01 09:00:00  14952    1722   9941  ...    1        6            1586.0\n",
              "2006-01-01 10:00:00  15119    1764  10046  ...    1        6            1641.0\n",
              "2006-01-01 11:00:00  14925    1791  10064  ...    1        6             879.0\n",
              "2006-01-01 12:00:00  14636    1782   9887  ...    1        6             281.0\n",
              "2006-01-01 13:00:00  14475    1784   9789  ...    1        6             114.0\n",
              "2006-01-01 14:00:00  14161    1772   9583  ...    1        6            -680.0\n",
              "2006-01-01 15:00:00  13841    1754   9300  ...    1        6            -999.0\n",
              "2006-01-01 16:00:00  13748    1735   9182  ...    1        6            -336.0\n",
              "2006-01-01 17:00:00  14018    1757   9474  ...    1        6            2214.0\n",
              "2006-01-01 18:00:00  15141    1905  10737  ...    1        6            6836.0\n",
              "2006-01-01 19:00:00  15748    1972  11137  ...    1        6            2402.0\n",
              "2006-01-01 20:00:00  15813    1945  11107  ...    1        6            -211.0\n",
              "2006-01-01 21:00:00  15638    1902  11132  ...    1        6            -602.0\n",
              "2006-01-01 22:00:00  15381    1844  10872  ...    1        6           -1860.0\n",
              "2006-01-01 23:00:00  14743    1757  10467  ...    1        6           -3366.0\n",
              "2006-01-02 00:00:00  14116    1662  10029  ...    2        0           -4101.0\n",
              "\n",
              "[24 rows x 13 columns]"
            ]
          },
          "metadata": {
            "tags": []
          },
          "execution_count": 269
        }
      ]
    },
    {
      "cell_type": "code",
      "metadata": {
        "id": "8dydMDl7TeWZ",
        "colab_type": "code",
        "colab": {
          "base_uri": "https://localhost:8080/",
          "height": 824
        },
        "outputId": "f766e2e1-412f-4f69-e872-926996126140"
      },
      "source": [
        "df1['Previous_Total'] = df1['Total'].shift(1)\n",
        "df1.head(24)"
      ],
      "execution_count": null,
      "outputs": [
        {
          "output_type": "execute_result",
          "data": {
            "text/html": [
              "<div>\n",
              "<style scoped>\n",
              "    .dataframe tbody tr th:only-of-type {\n",
              "        vertical-align: middle;\n",
              "    }\n",
              "\n",
              "    .dataframe tbody tr th {\n",
              "        vertical-align: top;\n",
              "    }\n",
              "\n",
              "    .dataframe thead th {\n",
              "        text-align: right;\n",
              "    }\n",
              "</style>\n",
              "<table border=\"1\" class=\"dataframe\">\n",
              "  <thead>\n",
              "    <tr style=\"text-align: right;\">\n",
              "      <th></th>\n",
              "      <th>AEP</th>\n",
              "      <th>DAYTON</th>\n",
              "      <th>DOM</th>\n",
              "      <th>DUQ</th>\n",
              "      <th>NI</th>\n",
              "      <th>PJME</th>\n",
              "      <th>PJMW</th>\n",
              "      <th>Total</th>\n",
              "      <th>Year</th>\n",
              "      <th>Month</th>\n",
              "      <th>Day</th>\n",
              "      <th>Weekday</th>\n",
              "      <th>Total_Difference</th>\n",
              "      <th>Previous_Total</th>\n",
              "    </tr>\n",
              "    <tr>\n",
              "      <th>Datetime</th>\n",
              "      <th></th>\n",
              "      <th></th>\n",
              "      <th></th>\n",
              "      <th></th>\n",
              "      <th></th>\n",
              "      <th></th>\n",
              "      <th></th>\n",
              "      <th></th>\n",
              "      <th></th>\n",
              "      <th></th>\n",
              "      <th></th>\n",
              "      <th></th>\n",
              "      <th></th>\n",
              "      <th></th>\n",
              "    </tr>\n",
              "  </thead>\n",
              "  <tbody>\n",
              "    <tr>\n",
              "      <th>2006-01-01 01:00:00</th>\n",
              "      <td>14287</td>\n",
              "      <td>1697</td>\n",
              "      <td>9258</td>\n",
              "      <td>1255</td>\n",
              "      <td>10206</td>\n",
              "      <td>28884</td>\n",
              "      <td>4768</td>\n",
              "      <td>70355</td>\n",
              "      <td>2006</td>\n",
              "      <td>1</td>\n",
              "      <td>1</td>\n",
              "      <td>6</td>\n",
              "      <td>NaN</td>\n",
              "      <td>NaN</td>\n",
              "    </tr>\n",
              "    <tr>\n",
              "      <th>2006-01-01 02:00:00</th>\n",
              "      <td>13932</td>\n",
              "      <td>1635</td>\n",
              "      <td>8987</td>\n",
              "      <td>1338</td>\n",
              "      <td>9808</td>\n",
              "      <td>27556</td>\n",
              "      <td>4613</td>\n",
              "      <td>67869</td>\n",
              "      <td>2006</td>\n",
              "      <td>1</td>\n",
              "      <td>1</td>\n",
              "      <td>6</td>\n",
              "      <td>-2486.0</td>\n",
              "      <td>70355.0</td>\n",
              "    </tr>\n",
              "    <tr>\n",
              "      <th>2006-01-01 03:00:00</th>\n",
              "      <td>13713</td>\n",
              "      <td>1584</td>\n",
              "      <td>8781</td>\n",
              "      <td>1276</td>\n",
              "      <td>9389</td>\n",
              "      <td>26484</td>\n",
              "      <td>4436</td>\n",
              "      <td>65663</td>\n",
              "      <td>2006</td>\n",
              "      <td>1</td>\n",
              "      <td>1</td>\n",
              "      <td>6</td>\n",
              "      <td>-2206.0</td>\n",
              "      <td>67869.0</td>\n",
              "    </tr>\n",
              "    <tr>\n",
              "      <th>2006-01-01 04:00:00</th>\n",
              "      <td>13656</td>\n",
              "      <td>1553</td>\n",
              "      <td>8680</td>\n",
              "      <td>1251</td>\n",
              "      <td>9034</td>\n",
              "      <td>25822</td>\n",
              "      <td>4362</td>\n",
              "      <td>64358</td>\n",
              "      <td>2006</td>\n",
              "      <td>1</td>\n",
              "      <td>1</td>\n",
              "      <td>6</td>\n",
              "      <td>-1305.0</td>\n",
              "      <td>65663.0</td>\n",
              "    </tr>\n",
              "    <tr>\n",
              "      <th>2006-01-01 05:00:00</th>\n",
              "      <td>13635</td>\n",
              "      <td>1555</td>\n",
              "      <td>8671</td>\n",
              "      <td>1228</td>\n",
              "      <td>8851</td>\n",
              "      <td>25530</td>\n",
              "      <td>4390</td>\n",
              "      <td>63860</td>\n",
              "      <td>2006</td>\n",
              "      <td>1</td>\n",
              "      <td>1</td>\n",
              "      <td>6</td>\n",
              "      <td>-498.0</td>\n",
              "      <td>64358.0</td>\n",
              "    </tr>\n",
              "    <tr>\n",
              "      <th>2006-01-01 06:00:00</th>\n",
              "      <td>13850</td>\n",
              "      <td>1575</td>\n",
              "      <td>8900</td>\n",
              "      <td>1250</td>\n",
              "      <td>8801</td>\n",
              "      <td>25768</td>\n",
              "      <td>4424</td>\n",
              "      <td>64568</td>\n",
              "      <td>2006</td>\n",
              "      <td>1</td>\n",
              "      <td>1</td>\n",
              "      <td>6</td>\n",
              "      <td>708.0</td>\n",
              "      <td>63860.0</td>\n",
              "    </tr>\n",
              "    <tr>\n",
              "      <th>2006-01-01 07:00:00</th>\n",
              "      <td>14199</td>\n",
              "      <td>1625</td>\n",
              "      <td>9276</td>\n",
              "      <td>1279</td>\n",
              "      <td>8858</td>\n",
              "      <td>26364</td>\n",
              "      <td>4529</td>\n",
              "      <td>66130</td>\n",
              "      <td>2006</td>\n",
              "      <td>1</td>\n",
              "      <td>1</td>\n",
              "      <td>6</td>\n",
              "      <td>1562.0</td>\n",
              "      <td>64568.0</td>\n",
              "    </tr>\n",
              "    <tr>\n",
              "      <th>2006-01-01 08:00:00</th>\n",
              "      <td>14662</td>\n",
              "      <td>1675</td>\n",
              "      <td>9643</td>\n",
              "      <td>1313</td>\n",
              "      <td>9001</td>\n",
              "      <td>26865</td>\n",
              "      <td>4709</td>\n",
              "      <td>67868</td>\n",
              "      <td>2006</td>\n",
              "      <td>1</td>\n",
              "      <td>1</td>\n",
              "      <td>6</td>\n",
              "      <td>1738.0</td>\n",
              "      <td>66130.0</td>\n",
              "    </tr>\n",
              "    <tr>\n",
              "      <th>2006-01-01 09:00:00</th>\n",
              "      <td>14952</td>\n",
              "      <td>1722</td>\n",
              "      <td>9941</td>\n",
              "      <td>1330</td>\n",
              "      <td>8996</td>\n",
              "      <td>27619</td>\n",
              "      <td>4894</td>\n",
              "      <td>69454</td>\n",
              "      <td>2006</td>\n",
              "      <td>1</td>\n",
              "      <td>1</td>\n",
              "      <td>6</td>\n",
              "      <td>1586.0</td>\n",
              "      <td>67868.0</td>\n",
              "    </tr>\n",
              "    <tr>\n",
              "      <th>2006-01-01 10:00:00</th>\n",
              "      <td>15119</td>\n",
              "      <td>1764</td>\n",
              "      <td>10046</td>\n",
              "      <td>1392</td>\n",
              "      <td>9004</td>\n",
              "      <td>28676</td>\n",
              "      <td>5094</td>\n",
              "      <td>71095</td>\n",
              "      <td>2006</td>\n",
              "      <td>1</td>\n",
              "      <td>1</td>\n",
              "      <td>6</td>\n",
              "      <td>1641.0</td>\n",
              "      <td>69454.0</td>\n",
              "    </tr>\n",
              "    <tr>\n",
              "      <th>2006-01-01 11:00:00</th>\n",
              "      <td>14925</td>\n",
              "      <td>1791</td>\n",
              "      <td>10064</td>\n",
              "      <td>1406</td>\n",
              "      <td>9176</td>\n",
              "      <td>29422</td>\n",
              "      <td>5190</td>\n",
              "      <td>71974</td>\n",
              "      <td>2006</td>\n",
              "      <td>1</td>\n",
              "      <td>1</td>\n",
              "      <td>6</td>\n",
              "      <td>879.0</td>\n",
              "      <td>71095.0</td>\n",
              "    </tr>\n",
              "    <tr>\n",
              "      <th>2006-01-01 12:00:00</th>\n",
              "      <td>14636</td>\n",
              "      <td>1782</td>\n",
              "      <td>9887</td>\n",
              "      <td>1423</td>\n",
              "      <td>9347</td>\n",
              "      <td>29937</td>\n",
              "      <td>5243</td>\n",
              "      <td>72255</td>\n",
              "      <td>2006</td>\n",
              "      <td>1</td>\n",
              "      <td>1</td>\n",
              "      <td>6</td>\n",
              "      <td>281.0</td>\n",
              "      <td>71974.0</td>\n",
              "    </tr>\n",
              "    <tr>\n",
              "      <th>2006-01-01 13:00:00</th>\n",
              "      <td>14475</td>\n",
              "      <td>1784</td>\n",
              "      <td>9789</td>\n",
              "      <td>1445</td>\n",
              "      <td>9464</td>\n",
              "      <td>30191</td>\n",
              "      <td>5221</td>\n",
              "      <td>72369</td>\n",
              "      <td>2006</td>\n",
              "      <td>1</td>\n",
              "      <td>1</td>\n",
              "      <td>6</td>\n",
              "      <td>114.0</td>\n",
              "      <td>72255.0</td>\n",
              "    </tr>\n",
              "    <tr>\n",
              "      <th>2006-01-01 14:00:00</th>\n",
              "      <td>14161</td>\n",
              "      <td>1772</td>\n",
              "      <td>9583</td>\n",
              "      <td>1419</td>\n",
              "      <td>9628</td>\n",
              "      <td>30057</td>\n",
              "      <td>5069</td>\n",
              "      <td>71689</td>\n",
              "      <td>2006</td>\n",
              "      <td>1</td>\n",
              "      <td>1</td>\n",
              "      <td>6</td>\n",
              "      <td>-680.0</td>\n",
              "      <td>72369.0</td>\n",
              "    </tr>\n",
              "    <tr>\n",
              "      <th>2006-01-01 15:00:00</th>\n",
              "      <td>13841</td>\n",
              "      <td>1754</td>\n",
              "      <td>9300</td>\n",
              "      <td>1420</td>\n",
              "      <td>9707</td>\n",
              "      <td>29701</td>\n",
              "      <td>4967</td>\n",
              "      <td>70690</td>\n",
              "      <td>2006</td>\n",
              "      <td>1</td>\n",
              "      <td>1</td>\n",
              "      <td>6</td>\n",
              "      <td>-999.0</td>\n",
              "      <td>71689.0</td>\n",
              "    </tr>\n",
              "    <tr>\n",
              "      <th>2006-01-01 16:00:00</th>\n",
              "      <td>13748</td>\n",
              "      <td>1735</td>\n",
              "      <td>9182</td>\n",
              "      <td>1430</td>\n",
              "      <td>9752</td>\n",
              "      <td>29567</td>\n",
              "      <td>4940</td>\n",
              "      <td>70354</td>\n",
              "      <td>2006</td>\n",
              "      <td>1</td>\n",
              "      <td>1</td>\n",
              "      <td>6</td>\n",
              "      <td>-336.0</td>\n",
              "      <td>70690.0</td>\n",
              "    </tr>\n",
              "    <tr>\n",
              "      <th>2006-01-01 17:00:00</th>\n",
              "      <td>14018</td>\n",
              "      <td>1757</td>\n",
              "      <td>9474</td>\n",
              "      <td>1488</td>\n",
              "      <td>10001</td>\n",
              "      <td>30792</td>\n",
              "      <td>5038</td>\n",
              "      <td>72568</td>\n",
              "      <td>2006</td>\n",
              "      <td>1</td>\n",
              "      <td>1</td>\n",
              "      <td>6</td>\n",
              "      <td>2214.0</td>\n",
              "      <td>70354.0</td>\n",
              "    </tr>\n",
              "    <tr>\n",
              "      <th>2006-01-01 18:00:00</th>\n",
              "      <td>15141</td>\n",
              "      <td>1905</td>\n",
              "      <td>10737</td>\n",
              "      <td>1598</td>\n",
              "      <td>10749</td>\n",
              "      <td>33766</td>\n",
              "      <td>5508</td>\n",
              "      <td>79404</td>\n",
              "      <td>2006</td>\n",
              "      <td>1</td>\n",
              "      <td>1</td>\n",
              "      <td>6</td>\n",
              "      <td>6836.0</td>\n",
              "      <td>72568.0</td>\n",
              "    </tr>\n",
              "    <tr>\n",
              "      <th>2006-01-01 19:00:00</th>\n",
              "      <td>15748</td>\n",
              "      <td>1972</td>\n",
              "      <td>11137</td>\n",
              "      <td>1619</td>\n",
              "      <td>11326</td>\n",
              "      <td>34305</td>\n",
              "      <td>5699</td>\n",
              "      <td>81806</td>\n",
              "      <td>2006</td>\n",
              "      <td>1</td>\n",
              "      <td>1</td>\n",
              "      <td>6</td>\n",
              "      <td>2402.0</td>\n",
              "      <td>79404.0</td>\n",
              "    </tr>\n",
              "    <tr>\n",
              "      <th>2006-01-01 20:00:00</th>\n",
              "      <td>15813</td>\n",
              "      <td>1945</td>\n",
              "      <td>11107</td>\n",
              "      <td>1615</td>\n",
              "      <td>11267</td>\n",
              "      <td>34139</td>\n",
              "      <td>5709</td>\n",
              "      <td>81595</td>\n",
              "      <td>2006</td>\n",
              "      <td>1</td>\n",
              "      <td>1</td>\n",
              "      <td>6</td>\n",
              "      <td>-211.0</td>\n",
              "      <td>81806.0</td>\n",
              "    </tr>\n",
              "    <tr>\n",
              "      <th>2006-01-01 21:00:00</th>\n",
              "      <td>15638</td>\n",
              "      <td>1902</td>\n",
              "      <td>11132</td>\n",
              "      <td>1595</td>\n",
              "      <td>11172</td>\n",
              "      <td>33878</td>\n",
              "      <td>5676</td>\n",
              "      <td>80993</td>\n",
              "      <td>2006</td>\n",
              "      <td>1</td>\n",
              "      <td>1</td>\n",
              "      <td>6</td>\n",
              "      <td>-602.0</td>\n",
              "      <td>81595.0</td>\n",
              "    </tr>\n",
              "    <tr>\n",
              "      <th>2006-01-01 22:00:00</th>\n",
              "      <td>15381</td>\n",
              "      <td>1844</td>\n",
              "      <td>10872</td>\n",
              "      <td>1568</td>\n",
              "      <td>10937</td>\n",
              "      <td>33018</td>\n",
              "      <td>5513</td>\n",
              "      <td>79133</td>\n",
              "      <td>2006</td>\n",
              "      <td>1</td>\n",
              "      <td>1</td>\n",
              "      <td>6</td>\n",
              "      <td>-1860.0</td>\n",
              "      <td>80993.0</td>\n",
              "    </tr>\n",
              "    <tr>\n",
              "      <th>2006-01-01 23:00:00</th>\n",
              "      <td>14743</td>\n",
              "      <td>1757</td>\n",
              "      <td>10467</td>\n",
              "      <td>1492</td>\n",
              "      <td>10669</td>\n",
              "      <td>31350</td>\n",
              "      <td>5289</td>\n",
              "      <td>75767</td>\n",
              "      <td>2006</td>\n",
              "      <td>1</td>\n",
              "      <td>1</td>\n",
              "      <td>6</td>\n",
              "      <td>-3366.0</td>\n",
              "      <td>79133.0</td>\n",
              "    </tr>\n",
              "    <tr>\n",
              "      <th>2006-01-02 00:00:00</th>\n",
              "      <td>14116</td>\n",
              "      <td>1662</td>\n",
              "      <td>10029</td>\n",
              "      <td>1426</td>\n",
              "      <td>10137</td>\n",
              "      <td>29333</td>\n",
              "      <td>4963</td>\n",
              "      <td>71666</td>\n",
              "      <td>2006</td>\n",
              "      <td>1</td>\n",
              "      <td>2</td>\n",
              "      <td>0</td>\n",
              "      <td>-4101.0</td>\n",
              "      <td>75767.0</td>\n",
              "    </tr>\n",
              "  </tbody>\n",
              "</table>\n",
              "</div>"
            ],
            "text/plain": [
              "                       AEP  DAYTON  ...  Total_Difference  Previous_Total\n",
              "Datetime                            ...                                  \n",
              "2006-01-01 01:00:00  14287    1697  ...               NaN             NaN\n",
              "2006-01-01 02:00:00  13932    1635  ...           -2486.0         70355.0\n",
              "2006-01-01 03:00:00  13713    1584  ...           -2206.0         67869.0\n",
              "2006-01-01 04:00:00  13656    1553  ...           -1305.0         65663.0\n",
              "2006-01-01 05:00:00  13635    1555  ...            -498.0         64358.0\n",
              "2006-01-01 06:00:00  13850    1575  ...             708.0         63860.0\n",
              "2006-01-01 07:00:00  14199    1625  ...            1562.0         64568.0\n",
              "2006-01-01 08:00:00  14662    1675  ...            1738.0         66130.0\n",
              "2006-01-01 09:00:00  14952    1722  ...            1586.0         67868.0\n",
              "2006-01-01 10:00:00  15119    1764  ...            1641.0         69454.0\n",
              "2006-01-01 11:00:00  14925    1791  ...             879.0         71095.0\n",
              "2006-01-01 12:00:00  14636    1782  ...             281.0         71974.0\n",
              "2006-01-01 13:00:00  14475    1784  ...             114.0         72255.0\n",
              "2006-01-01 14:00:00  14161    1772  ...            -680.0         72369.0\n",
              "2006-01-01 15:00:00  13841    1754  ...            -999.0         71689.0\n",
              "2006-01-01 16:00:00  13748    1735  ...            -336.0         70690.0\n",
              "2006-01-01 17:00:00  14018    1757  ...            2214.0         70354.0\n",
              "2006-01-01 18:00:00  15141    1905  ...            6836.0         72568.0\n",
              "2006-01-01 19:00:00  15748    1972  ...            2402.0         79404.0\n",
              "2006-01-01 20:00:00  15813    1945  ...            -211.0         81806.0\n",
              "2006-01-01 21:00:00  15638    1902  ...            -602.0         81595.0\n",
              "2006-01-01 22:00:00  15381    1844  ...           -1860.0         80993.0\n",
              "2006-01-01 23:00:00  14743    1757  ...           -3366.0         79133.0\n",
              "2006-01-02 00:00:00  14116    1662  ...           -4101.0         75767.0\n",
              "\n",
              "[24 rows x 14 columns]"
            ]
          },
          "metadata": {
            "tags": []
          },
          "execution_count": 270
        }
      ]
    },
    {
      "cell_type": "code",
      "metadata": {
        "id": "8T-rDavnzqV2",
        "colab_type": "code",
        "colab": {}
      },
      "source": [
        "df1.fillna(value=0,axis=1,inplace=True)"
      ],
      "execution_count": null,
      "outputs": []
    },
    {
      "cell_type": "code",
      "metadata": {
        "id": "jsY7q2pyz5_m",
        "colab_type": "code",
        "colab": {
          "base_uri": "https://localhost:8080/",
          "height": 450
        },
        "outputId": "e4534442-9cb4-49f5-95a9-a45df6aa68e8"
      },
      "source": [
        "df1"
      ],
      "execution_count": null,
      "outputs": [
        {
          "output_type": "execute_result",
          "data": {
            "text/html": [
              "<div>\n",
              "<style scoped>\n",
              "    .dataframe tbody tr th:only-of-type {\n",
              "        vertical-align: middle;\n",
              "    }\n",
              "\n",
              "    .dataframe tbody tr th {\n",
              "        vertical-align: top;\n",
              "    }\n",
              "\n",
              "    .dataframe thead th {\n",
              "        text-align: right;\n",
              "    }\n",
              "</style>\n",
              "<table border=\"1\" class=\"dataframe\">\n",
              "  <thead>\n",
              "    <tr style=\"text-align: right;\">\n",
              "      <th></th>\n",
              "      <th>AEP</th>\n",
              "      <th>DAYTON</th>\n",
              "      <th>DOM</th>\n",
              "      <th>DUQ</th>\n",
              "      <th>NI</th>\n",
              "      <th>PJME</th>\n",
              "      <th>PJMW</th>\n",
              "      <th>Total</th>\n",
              "      <th>Year</th>\n",
              "      <th>Month</th>\n",
              "      <th>Day</th>\n",
              "      <th>Weekday</th>\n",
              "      <th>Total_Difference</th>\n",
              "      <th>Previous_Total</th>\n",
              "    </tr>\n",
              "    <tr>\n",
              "      <th>Datetime</th>\n",
              "      <th></th>\n",
              "      <th></th>\n",
              "      <th></th>\n",
              "      <th></th>\n",
              "      <th></th>\n",
              "      <th></th>\n",
              "      <th></th>\n",
              "      <th></th>\n",
              "      <th></th>\n",
              "      <th></th>\n",
              "      <th></th>\n",
              "      <th></th>\n",
              "      <th></th>\n",
              "      <th></th>\n",
              "    </tr>\n",
              "  </thead>\n",
              "  <tbody>\n",
              "    <tr>\n",
              "      <th>2006-01-01 01:00:00</th>\n",
              "      <td>14287</td>\n",
              "      <td>1697</td>\n",
              "      <td>9258</td>\n",
              "      <td>1255</td>\n",
              "      <td>10206</td>\n",
              "      <td>28884</td>\n",
              "      <td>4768</td>\n",
              "      <td>70355</td>\n",
              "      <td>2006</td>\n",
              "      <td>1</td>\n",
              "      <td>1</td>\n",
              "      <td>6</td>\n",
              "      <td>0.0</td>\n",
              "      <td>0.0</td>\n",
              "    </tr>\n",
              "    <tr>\n",
              "      <th>2006-01-01 02:00:00</th>\n",
              "      <td>13932</td>\n",
              "      <td>1635</td>\n",
              "      <td>8987</td>\n",
              "      <td>1338</td>\n",
              "      <td>9808</td>\n",
              "      <td>27556</td>\n",
              "      <td>4613</td>\n",
              "      <td>67869</td>\n",
              "      <td>2006</td>\n",
              "      <td>1</td>\n",
              "      <td>1</td>\n",
              "      <td>6</td>\n",
              "      <td>-2486.0</td>\n",
              "      <td>70355.0</td>\n",
              "    </tr>\n",
              "    <tr>\n",
              "      <th>2006-01-01 03:00:00</th>\n",
              "      <td>13713</td>\n",
              "      <td>1584</td>\n",
              "      <td>8781</td>\n",
              "      <td>1276</td>\n",
              "      <td>9389</td>\n",
              "      <td>26484</td>\n",
              "      <td>4436</td>\n",
              "      <td>65663</td>\n",
              "      <td>2006</td>\n",
              "      <td>1</td>\n",
              "      <td>1</td>\n",
              "      <td>6</td>\n",
              "      <td>-2206.0</td>\n",
              "      <td>67869.0</td>\n",
              "    </tr>\n",
              "    <tr>\n",
              "      <th>2006-01-01 04:00:00</th>\n",
              "      <td>13656</td>\n",
              "      <td>1553</td>\n",
              "      <td>8680</td>\n",
              "      <td>1251</td>\n",
              "      <td>9034</td>\n",
              "      <td>25822</td>\n",
              "      <td>4362</td>\n",
              "      <td>64358</td>\n",
              "      <td>2006</td>\n",
              "      <td>1</td>\n",
              "      <td>1</td>\n",
              "      <td>6</td>\n",
              "      <td>-1305.0</td>\n",
              "      <td>65663.0</td>\n",
              "    </tr>\n",
              "    <tr>\n",
              "      <th>2006-01-01 05:00:00</th>\n",
              "      <td>13635</td>\n",
              "      <td>1555</td>\n",
              "      <td>8671</td>\n",
              "      <td>1228</td>\n",
              "      <td>8851</td>\n",
              "      <td>25530</td>\n",
              "      <td>4390</td>\n",
              "      <td>63860</td>\n",
              "      <td>2006</td>\n",
              "      <td>1</td>\n",
              "      <td>1</td>\n",
              "      <td>6</td>\n",
              "      <td>-498.0</td>\n",
              "      <td>64358.0</td>\n",
              "    </tr>\n",
              "    <tr>\n",
              "      <th>...</th>\n",
              "      <td>...</td>\n",
              "      <td>...</td>\n",
              "      <td>...</td>\n",
              "      <td>...</td>\n",
              "      <td>...</td>\n",
              "      <td>...</td>\n",
              "      <td>...</td>\n",
              "      <td>...</td>\n",
              "      <td>...</td>\n",
              "      <td>...</td>\n",
              "      <td>...</td>\n",
              "      <td>...</td>\n",
              "      <td>...</td>\n",
              "      <td>...</td>\n",
              "    </tr>\n",
              "    <tr>\n",
              "      <th>2010-12-31 20:00:00</th>\n",
              "      <td>15127</td>\n",
              "      <td>1697</td>\n",
              "      <td>11820</td>\n",
              "      <td>1696</td>\n",
              "      <td>11585</td>\n",
              "      <td>35035</td>\n",
              "      <td>5655</td>\n",
              "      <td>82615</td>\n",
              "      <td>2010</td>\n",
              "      <td>12</td>\n",
              "      <td>31</td>\n",
              "      <td>4</td>\n",
              "      <td>-2074.0</td>\n",
              "      <td>84689.0</td>\n",
              "    </tr>\n",
              "    <tr>\n",
              "      <th>2010-12-31 21:00:00</th>\n",
              "      <td>14807</td>\n",
              "      <td>1623</td>\n",
              "      <td>11532</td>\n",
              "      <td>1643</td>\n",
              "      <td>11243</td>\n",
              "      <td>33852</td>\n",
              "      <td>5488</td>\n",
              "      <td>80188</td>\n",
              "      <td>2010</td>\n",
              "      <td>12</td>\n",
              "      <td>31</td>\n",
              "      <td>4</td>\n",
              "      <td>-2427.0</td>\n",
              "      <td>82615.0</td>\n",
              "    </tr>\n",
              "    <tr>\n",
              "      <th>2010-12-31 22:00:00</th>\n",
              "      <td>14450</td>\n",
              "      <td>1563</td>\n",
              "      <td>11180</td>\n",
              "      <td>1583</td>\n",
              "      <td>10825</td>\n",
              "      <td>32550</td>\n",
              "      <td>5305</td>\n",
              "      <td>77456</td>\n",
              "      <td>2010</td>\n",
              "      <td>12</td>\n",
              "      <td>31</td>\n",
              "      <td>4</td>\n",
              "      <td>-2732.0</td>\n",
              "      <td>80188.0</td>\n",
              "    </tr>\n",
              "    <tr>\n",
              "      <th>2010-12-31 23:00:00</th>\n",
              "      <td>14089</td>\n",
              "      <td>1501</td>\n",
              "      <td>10809</td>\n",
              "      <td>1524</td>\n",
              "      <td>10511</td>\n",
              "      <td>31162</td>\n",
              "      <td>5113</td>\n",
              "      <td>74709</td>\n",
              "      <td>2010</td>\n",
              "      <td>12</td>\n",
              "      <td>31</td>\n",
              "      <td>4</td>\n",
              "      <td>-2747.0</td>\n",
              "      <td>77456.0</td>\n",
              "    </tr>\n",
              "    <tr>\n",
              "      <th>2011-01-01 00:00:00</th>\n",
              "      <td>13694</td>\n",
              "      <td>1436</td>\n",
              "      <td>10480</td>\n",
              "      <td>1454</td>\n",
              "      <td>10042</td>\n",
              "      <td>29871</td>\n",
              "      <td>4910</td>\n",
              "      <td>71887</td>\n",
              "      <td>2011</td>\n",
              "      <td>1</td>\n",
              "      <td>1</td>\n",
              "      <td>5</td>\n",
              "      <td>-2822.0</td>\n",
              "      <td>74709.0</td>\n",
              "    </tr>\n",
              "  </tbody>\n",
              "</table>\n",
              "<p>43813 rows × 14 columns</p>\n",
              "</div>"
            ],
            "text/plain": [
              "                       AEP  DAYTON  ...  Total_Difference  Previous_Total\n",
              "Datetime                            ...                                  \n",
              "2006-01-01 01:00:00  14287    1697  ...               0.0             0.0\n",
              "2006-01-01 02:00:00  13932    1635  ...           -2486.0         70355.0\n",
              "2006-01-01 03:00:00  13713    1584  ...           -2206.0         67869.0\n",
              "2006-01-01 04:00:00  13656    1553  ...           -1305.0         65663.0\n",
              "2006-01-01 05:00:00  13635    1555  ...            -498.0         64358.0\n",
              "...                    ...     ...  ...               ...             ...\n",
              "2010-12-31 20:00:00  15127    1697  ...           -2074.0         84689.0\n",
              "2010-12-31 21:00:00  14807    1623  ...           -2427.0         82615.0\n",
              "2010-12-31 22:00:00  14450    1563  ...           -2732.0         80188.0\n",
              "2010-12-31 23:00:00  14089    1501  ...           -2747.0         77456.0\n",
              "2011-01-01 00:00:00  13694    1436  ...           -2822.0         74709.0\n",
              "\n",
              "[43813 rows x 14 columns]"
            ]
          },
          "metadata": {
            "tags": []
          },
          "execution_count": 272
        }
      ]
    },
    {
      "cell_type": "code",
      "metadata": {
        "id": "jRZ4VBqb5Msv",
        "colab_type": "code",
        "colab": {
          "base_uri": "https://localhost:8080/",
          "height": 296
        },
        "outputId": "bcc12d0a-7241-4bdd-dca8-ebe85825c7bc"
      },
      "source": [
        "df1.plot.line(x='Year',y='Total_Difference')"
      ],
      "execution_count": null,
      "outputs": [
        {
          "output_type": "execute_result",
          "data": {
            "text/plain": [
              "<matplotlib.axes._subplots.AxesSubplot at 0x7f0b98d40dd8>"
            ]
          },
          "metadata": {
            "tags": []
          },
          "execution_count": 273
        },
        {
          "output_type": "display_data",
          "data": {
            "image/png": "[encoded data removed]",
            "text/plain": [
              "<Figure size 432x288 with 1 Axes>"
            ]
          },
          "metadata": {
            "tags": [],
            "needs_background": "light"
          }
        }
      ]
    },
    {
      "cell_type": "code",
      "metadata": {
        "id": "4CfRDcAV6Zd2",
        "colab_type": "code",
        "colab": {
          "base_uri": "https://localhost:8080/",
          "height": 353
        },
        "outputId": "b242110e-eff5-47b0-dd6f-4d786b4f92e4"
      },
      "source": [
        "df1['PJME'].plot.hist(figsize=(15, 5), bins=200, title='PJME Energy Consumption Frequency')"
      ],
      "execution_count": null,
      "outputs": [
        {
          "output_type": "execute_result",
          "data": {
            "text/plain": [
              "<matplotlib.axes._subplots.AxesSubplot at 0x7f0b98d26860>"
            ]
          },
          "metadata": {
            "tags": []
          },
          "execution_count": 274
        },
        {
          "output_type": "display_data",
          "data": {
            "image/png": "[encoded data removed]",
            "text/plain": [
              "<Figure size 1080x360 with 1 Axes>"
            ]
          },
          "metadata": {
            "tags": [],
            "needs_background": "light"
          }
        }
      ]
    },
    {
      "cell_type": "markdown",
      "metadata": {
        "id": "bm40oWZLBJkt",
        "colab_type": "text"
      },
      "source": [
        "# Models"
      ]
    },
    {
      "cell_type": "markdown",
      "metadata": {
        "id": "RGg7N-ak5Aro",
        "colab_type": "text"
      },
      "source": [
        "## Split training and testing data"
      ]
    },
    {
      "cell_type": "code",
      "metadata": {
        "id": "4cDA7ESWBL5H",
        "colab_type": "code",
        "colab": {
          "base_uri": "https://localhost:8080/",
          "height": 1000
        },
        "outputId": "e19a0279-0743-4d1c-d991-82a5edb66f45"
      },
      "source": [
        "#X_train = df1.loc[df1['Year']<=2009]['Total_Difference']\n",
        "#y_train = df1.loc[:'2009', 'Total']\n",
        "#X_test = df1.loc[df1['Year']>2009]['Total_Difference']\n",
        "#y_test = df1.loc['2010':, 'Total']\n",
        "#X_train\n",
        "X_train = df1[:'2009'].drop(['Total'], axis = 1)\n",
        "y_train = pd.DataFrame(df1.loc[:'2009', 'Total'])\n",
        "X_test = df1['2010':].drop(['Total'], axis = 1)\n",
        "y_test = pd.DataFrame(df1.loc['2010':, 'Total'])\n",
        "df1_holdout = df1['2010':]\n",
        "print(y_test)\n",
        "print(X_test)\n",
        "print(X_train)\n",
        "print(y_train)"
      ],
      "execution_count": null,
      "outputs": [
        {
          "output_type": "stream",
          "text": [
            "                     Total\n",
            "Datetime                  \n",
            "2010-01-01 00:00:00  78140\n",
            "2010-01-01 01:00:00  74739\n",
            "2010-01-01 02:00:00  72306\n",
            "2010-01-01 03:00:00  70463\n",
            "2010-01-01 04:00:00  69479\n",
            "...                    ...\n",
            "2010-12-31 20:00:00  82615\n",
            "2010-12-31 21:00:00  80188\n",
            "2010-12-31 22:00:00  77456\n",
            "2010-12-31 23:00:00  74709\n",
            "2011-01-01 00:00:00  71887\n",
            "\n",
            "[8758 rows x 1 columns]\n",
            "                       AEP  DAYTON  ...  Total_Difference  Previous_Total\n",
            "Datetime                            ...                                  \n",
            "2010-01-01 00:00:00  15116    1794  ...           -3128.0         81268.0\n",
            "2010-01-01 01:00:00  14585    1748  ...           -3401.0         78140.0\n",
            "2010-01-01 02:00:00  14272    1728  ...           -2433.0         74739.0\n",
            "2010-01-01 03:00:00  14065    1715  ...           -1843.0         72306.0\n",
            "2010-01-01 04:00:00  14047    1723  ...            -984.0         70463.0\n",
            "...                    ...     ...  ...               ...             ...\n",
            "2010-12-31 20:00:00  15127    1697  ...           -2074.0         84689.0\n",
            "2010-12-31 21:00:00  14807    1623  ...           -2427.0         82615.0\n",
            "2010-12-31 22:00:00  14450    1563  ...           -2732.0         80188.0\n",
            "2010-12-31 23:00:00  14089    1501  ...           -2747.0         77456.0\n",
            "2011-01-01 00:00:00  13694    1436  ...           -2822.0         74709.0\n",
            "\n",
            "[8758 rows x 13 columns]\n",
            "                       AEP  DAYTON  ...  Total_Difference  Previous_Total\n",
            "Datetime                            ...                                  \n",
            "2006-01-01 01:00:00  14287    1697  ...               0.0             0.0\n",
            "2006-01-01 02:00:00  13932    1635  ...           -2486.0         70355.0\n",
            "2006-01-01 03:00:00  13713    1584  ...           -2206.0         67869.0\n",
            "2006-01-01 04:00:00  13656    1553  ...           -1305.0         65663.0\n",
            "2006-01-01 05:00:00  13635    1555  ...            -498.0         64358.0\n",
            "...                    ...     ...  ...               ...             ...\n",
            "2009-12-31 19:00:00  17333    2137  ...            -141.0         93979.0\n",
            "2009-12-31 20:00:00  16875    2052  ...           -2971.0         93838.0\n",
            "2009-12-31 21:00:00  16384    1987  ...           -3092.0         90867.0\n",
            "2009-12-31 22:00:00  16081    1920  ...           -3089.0         87775.0\n",
            "2009-12-31 23:00:00  15592    1846  ...           -3418.0         84686.0\n",
            "\n",
            "[35055 rows x 13 columns]\n",
            "                     Total\n",
            "Datetime                  \n",
            "2006-01-01 01:00:00  70355\n",
            "2006-01-01 02:00:00  67869\n",
            "2006-01-01 03:00:00  65663\n",
            "2006-01-01 04:00:00  64358\n",
            "2006-01-01 05:00:00  63860\n",
            "...                    ...\n",
            "2009-12-31 19:00:00  93838\n",
            "2009-12-31 20:00:00  90867\n",
            "2009-12-31 21:00:00  87775\n",
            "2009-12-31 22:00:00  84686\n",
            "2009-12-31 23:00:00  81268\n",
            "\n",
            "[35055 rows x 1 columns]\n"
          ],
          "name": "stdout"
        }
      ]
    },
    {
      "cell_type": "code",
      "metadata": {
        "id": "JPVrHMCiPFlo",
        "colab_type": "code",
        "colab": {}
      },
      "source": [
        "#df1\n",
        "#df3 = df1.drop(columns=['AEP',\"DAYTON\",'DOM','DUQ','NI','PJME','PJMW','Year','Month','Day','Weekday'],axis=1,inplace=True)\n",
        "list = ['AEP',\"DAYTON\",'DOM','DUQ','NI','PJME','PJMW','Year','Month','Day','Weekday']\n",
        "allcols = df1.columns.to_list()\n",
        "df3 = df1[[x for x in allcols if x not in list]]"
      ],
      "execution_count": null,
      "outputs": []
    },
    {
      "cell_type": "code",
      "metadata": {
        "id": "cdWAe4kqy4lG",
        "colab_type": "code",
        "colab": {
          "base_uri": "https://localhost:8080/",
          "height": 450
        },
        "outputId": "22d10f38-0cbc-4ea4-b0fe-edfaaa30c119"
      },
      "source": [
        "df3"
      ],
      "execution_count": null,
      "outputs": [
        {
          "output_type": "execute_result",
          "data": {
            "text/html": [
              "<div>\n",
              "<style scoped>\n",
              "    .dataframe tbody tr th:only-of-type {\n",
              "        vertical-align: middle;\n",
              "    }\n",
              "\n",
              "    .dataframe tbody tr th {\n",
              "        vertical-align: top;\n",
              "    }\n",
              "\n",
              "    .dataframe thead th {\n",
              "        text-align: right;\n",
              "    }\n",
              "</style>\n",
              "<table border=\"1\" class=\"dataframe\">\n",
              "  <thead>\n",
              "    <tr style=\"text-align: right;\">\n",
              "      <th></th>\n",
              "      <th>Total</th>\n",
              "      <th>Total_Difference</th>\n",
              "      <th>Previous_Total</th>\n",
              "    </tr>\n",
              "    <tr>\n",
              "      <th>Datetime</th>\n",
              "      <th></th>\n",
              "      <th></th>\n",
              "      <th></th>\n",
              "    </tr>\n",
              "  </thead>\n",
              "  <tbody>\n",
              "    <tr>\n",
              "      <th>2006-01-01 01:00:00</th>\n",
              "      <td>70355</td>\n",
              "      <td>0.0</td>\n",
              "      <td>0.0</td>\n",
              "    </tr>\n",
              "    <tr>\n",
              "      <th>2006-01-01 02:00:00</th>\n",
              "      <td>67869</td>\n",
              "      <td>-2486.0</td>\n",
              "      <td>70355.0</td>\n",
              "    </tr>\n",
              "    <tr>\n",
              "      <th>2006-01-01 03:00:00</th>\n",
              "      <td>65663</td>\n",
              "      <td>-2206.0</td>\n",
              "      <td>67869.0</td>\n",
              "    </tr>\n",
              "    <tr>\n",
              "      <th>2006-01-01 04:00:00</th>\n",
              "      <td>64358</td>\n",
              "      <td>-1305.0</td>\n",
              "      <td>65663.0</td>\n",
              "    </tr>\n",
              "    <tr>\n",
              "      <th>2006-01-01 05:00:00</th>\n",
              "      <td>63860</td>\n",
              "      <td>-498.0</td>\n",
              "      <td>64358.0</td>\n",
              "    </tr>\n",
              "    <tr>\n",
              "      <th>...</th>\n",
              "      <td>...</td>\n",
              "      <td>...</td>\n",
              "      <td>...</td>\n",
              "    </tr>\n",
              "    <tr>\n",
              "      <th>2010-12-31 20:00:00</th>\n",
              "      <td>82615</td>\n",
              "      <td>-2074.0</td>\n",
              "      <td>84689.0</td>\n",
              "    </tr>\n",
              "    <tr>\n",
              "      <th>2010-12-31 21:00:00</th>\n",
              "      <td>80188</td>\n",
              "      <td>-2427.0</td>\n",
              "      <td>82615.0</td>\n",
              "    </tr>\n",
              "    <tr>\n",
              "      <th>2010-12-31 22:00:00</th>\n",
              "      <td>77456</td>\n",
              "      <td>-2732.0</td>\n",
              "      <td>80188.0</td>\n",
              "    </tr>\n",
              "    <tr>\n",
              "      <th>2010-12-31 23:00:00</th>\n",
              "      <td>74709</td>\n",
              "      <td>-2747.0</td>\n",
              "      <td>77456.0</td>\n",
              "    </tr>\n",
              "    <tr>\n",
              "      <th>2011-01-01 00:00:00</th>\n",
              "      <td>71887</td>\n",
              "      <td>-2822.0</td>\n",
              "      <td>74709.0</td>\n",
              "    </tr>\n",
              "  </tbody>\n",
              "</table>\n",
              "<p>43813 rows × 3 columns</p>\n",
              "</div>"
            ],
            "text/plain": [
              "                     Total  Total_Difference  Previous_Total\n",
              "Datetime                                                    \n",
              "2006-01-01 01:00:00  70355               0.0             0.0\n",
              "2006-01-01 02:00:00  67869           -2486.0         70355.0\n",
              "2006-01-01 03:00:00  65663           -2206.0         67869.0\n",
              "2006-01-01 04:00:00  64358           -1305.0         65663.0\n",
              "2006-01-01 05:00:00  63860            -498.0         64358.0\n",
              "...                    ...               ...             ...\n",
              "2010-12-31 20:00:00  82615           -2074.0         84689.0\n",
              "2010-12-31 21:00:00  80188           -2427.0         82615.0\n",
              "2010-12-31 22:00:00  77456           -2732.0         80188.0\n",
              "2010-12-31 23:00:00  74709           -2747.0         77456.0\n",
              "2011-01-01 00:00:00  71887           -2822.0         74709.0\n",
              "\n",
              "[43813 rows x 3 columns]"
            ]
          },
          "metadata": {
            "tags": []
          },
          "execution_count": 277
        }
      ]
    },
    {
      "cell_type": "markdown",
      "metadata": {
        "id": "c6zVBiEQ4vNq",
        "colab_type": "text"
      },
      "source": [
        "## Linear Regression"
      ]
    },
    {
      "cell_type": "code",
      "metadata": {
        "id": "eH59Z_D1D30w",
        "colab_type": "code",
        "colab": {
          "base_uri": "https://localhost:8080/",
          "height": 298
        },
        "outputId": "fc0bc0cd-1593-4bec-d53b-cdc8be3b1f19"
      },
      "source": [
        "from sklearn.linear_model import LinearRegression\n",
        "from sklearn.model_selection import TimeSeriesSplit\n",
        "from sklearn.model_selection import cross_val_score\n",
        "from sklearn.metrics import mean_squared_error\n",
        "from matplotlib import pyplot as plt\n",
        "\n",
        "# Spot Check Algorithms\n",
        "models = []\n",
        "models.append(('LR', LinearRegression()))\n",
        "# Evaluate each model in turn\n",
        "results = []\n",
        "names = []\n",
        "for name, model in models:\n",
        "    # TimeSeries Cross validation\n",
        "    tscv = TimeSeriesSplit(n_splits=5)\n",
        "    cv_results = cross_val_score(model, X_train, y_train, cv=tscv, scoring='neg_mean_squared_error')\n",
        "    results.append(cv_results)\n",
        "    names.append(name)\n",
        "    print(name, cv_results.mean(), cv_results.std())\n",
        "\n",
        "plt.boxplot(results, labels=names)\n",
        "plt.title('Algorithm Comparison')\n",
        "plt.show()"
      ],
      "execution_count": null,
      "outputs": [
        {
          "output_type": "stream",
          "text": [
            "LR -4.460220389924355e-21 4.0521429572435876e-21\n"
          ],
          "name": "stdout"
        },
        {
          "output_type": "display_data",
          "data": {
            "image/png": "[encoded data removed]",
            "text/plain": [
              "<Figure size 432x288 with 1 Axes>"
            ]
          },
          "metadata": {
            "tags": [],
            "needs_background": "light"
          }
        }
      ]
    },
    {
      "cell_type": "markdown",
      "metadata": {
        "id": "Aj5-jicp43HO",
        "colab_type": "text"
      },
      "source": [
        "## Random Forest Regressor"
      ]
    },
    {
      "cell_type": "code",
      "metadata": {
        "id": "0pZYbEVJHjQ1",
        "colab_type": "code",
        "colab": {
          "base_uri": "https://localhost:8080/",
          "height": 163
        },
        "outputId": "64c45bd5-a3a8-4324-abc0-be6a57eadd64"
      },
      "source": [
        "from sklearn.model_selection import cross_val_score\n",
        "from sklearn.metrics import f1_score\n",
        "from sklearn.ensemble import RandomForestRegressor\n",
        "from sklearn.metrics import mean_squared_error\n",
        "\n",
        "RF = RandomForestRegressor(max_depth = 30)\n",
        "#cross_val = cross_val_score(RF, X_train, y_train, cv=tscv, scoring='f1_macro')\n",
        "#np.mean(cross_val)\n",
        "RF.fit(X_train, y_train)\n",
        "df1_holdout['prediction'] = RF.predict(X_test)\n",
        "mean_squared_error(y_test['Total'],df1_holdout['prediction'])\n",
        " \n",
        "np.sqrt(mean_squared_error(y_test['Total'],df1_holdout['prediction']))"
      ],
      "execution_count": null,
      "outputs": [
        {
          "output_type": "stream",
          "text": [
            "/usr/local/lib/python3.6/dist-packages/ipykernel_launcher.py:10: SettingWithCopyWarning: \n",
            "A value is trying to be set on a copy of a slice from a DataFrame.\n",
            "Try using .loc[row_indexer,col_indexer] = value instead\n",
            "\n",
            "See the caveats in the documentation: https://pandas.pydata.org/pandas-docs/stable/user_guide/indexing.html#returning-a-view-versus-a-copy\n",
            "  # Remove the CWD from sys.path while we load stuff.\n"
          ],
          "name": "stderr"
        },
        {
          "output_type": "execute_result",
          "data": {
            "text/plain": [
              "483.1593067739899"
            ]
          },
          "metadata": {
            "tags": []
          },
          "execution_count": 72
        }
      ]
    },
    {
      "cell_type": "code",
      "metadata": {
        "id": "o2ar_50w2vzK",
        "colab_type": "code",
        "colab": {
          "base_uri": "https://localhost:8080/",
          "height": 450
        },
        "outputId": "f5f50238-0128-46bf-ba08-4cfb0cea8cfe"
      },
      "source": [
        "df1_holdout"
      ],
      "execution_count": null,
      "outputs": [
        {
          "output_type": "execute_result",
          "data": {
            "text/html": [
              "<div>\n",
              "<style scoped>\n",
              "    .dataframe tbody tr th:only-of-type {\n",
              "        vertical-align: middle;\n",
              "    }\n",
              "\n",
              "    .dataframe tbody tr th {\n",
              "        vertical-align: top;\n",
              "    }\n",
              "\n",
              "    .dataframe thead th {\n",
              "        text-align: right;\n",
              "    }\n",
              "</style>\n",
              "<table border=\"1\" class=\"dataframe\">\n",
              "  <thead>\n",
              "    <tr style=\"text-align: right;\">\n",
              "      <th></th>\n",
              "      <th>AEP</th>\n",
              "      <th>DAYTON</th>\n",
              "      <th>DOM</th>\n",
              "      <th>DUQ</th>\n",
              "      <th>NI</th>\n",
              "      <th>PJME</th>\n",
              "      <th>PJMW</th>\n",
              "      <th>Total</th>\n",
              "      <th>Year</th>\n",
              "      <th>Month</th>\n",
              "      <th>Day</th>\n",
              "      <th>Weekday</th>\n",
              "      <th>Total_Difference</th>\n",
              "      <th>Previous_Total</th>\n",
              "      <th>prediction</th>\n",
              "    </tr>\n",
              "    <tr>\n",
              "      <th>Datetime</th>\n",
              "      <th></th>\n",
              "      <th></th>\n",
              "      <th></th>\n",
              "      <th></th>\n",
              "      <th></th>\n",
              "      <th></th>\n",
              "      <th></th>\n",
              "      <th></th>\n",
              "      <th></th>\n",
              "      <th></th>\n",
              "      <th></th>\n",
              "      <th></th>\n",
              "      <th></th>\n",
              "      <th></th>\n",
              "      <th></th>\n",
              "    </tr>\n",
              "  </thead>\n",
              "  <tbody>\n",
              "    <tr>\n",
              "      <th>2010-01-01 00:00:00</th>\n",
              "      <td>15116</td>\n",
              "      <td>1794</td>\n",
              "      <td>10770</td>\n",
              "      <td>1526</td>\n",
              "      <td>11906</td>\n",
              "      <td>31647</td>\n",
              "      <td>5381</td>\n",
              "      <td>78140</td>\n",
              "      <td>2010</td>\n",
              "      <td>1</td>\n",
              "      <td>1</td>\n",
              "      <td>4</td>\n",
              "      <td>-3128.0</td>\n",
              "      <td>81268.0</td>\n",
              "      <td>77645.198358</td>\n",
              "    </tr>\n",
              "    <tr>\n",
              "      <th>2010-01-01 01:00:00</th>\n",
              "      <td>14585</td>\n",
              "      <td>1748</td>\n",
              "      <td>10273</td>\n",
              "      <td>1465</td>\n",
              "      <td>11450</td>\n",
              "      <td>30075</td>\n",
              "      <td>5143</td>\n",
              "      <td>74739</td>\n",
              "      <td>2010</td>\n",
              "      <td>1</td>\n",
              "      <td>1</td>\n",
              "      <td>4</td>\n",
              "      <td>-3401.0</td>\n",
              "      <td>78140.0</td>\n",
              "      <td>73934.074474</td>\n",
              "    </tr>\n",
              "    <tr>\n",
              "      <th>2010-01-01 02:00:00</th>\n",
              "      <td>14272</td>\n",
              "      <td>1728</td>\n",
              "      <td>9960</td>\n",
              "      <td>1397</td>\n",
              "      <td>11056</td>\n",
              "      <td>28907</td>\n",
              "      <td>4986</td>\n",
              "      <td>72306</td>\n",
              "      <td>2010</td>\n",
              "      <td>1</td>\n",
              "      <td>1</td>\n",
              "      <td>4</td>\n",
              "      <td>-2433.0</td>\n",
              "      <td>74739.0</td>\n",
              "      <td>71941.132840</td>\n",
              "    </tr>\n",
              "    <tr>\n",
              "      <th>2010-01-01 03:00:00</th>\n",
              "      <td>14065</td>\n",
              "      <td>1715</td>\n",
              "      <td>9797</td>\n",
              "      <td>1353</td>\n",
              "      <td>10735</td>\n",
              "      <td>27906</td>\n",
              "      <td>4892</td>\n",
              "      <td>70463</td>\n",
              "      <td>2010</td>\n",
              "      <td>1</td>\n",
              "      <td>1</td>\n",
              "      <td>4</td>\n",
              "      <td>-1843.0</td>\n",
              "      <td>72306.0</td>\n",
              "      <td>69865.361760</td>\n",
              "    </tr>\n",
              "    <tr>\n",
              "      <th>2010-01-01 04:00:00</th>\n",
              "      <td>14047</td>\n",
              "      <td>1723</td>\n",
              "      <td>9715</td>\n",
              "      <td>1336</td>\n",
              "      <td>10471</td>\n",
              "      <td>27373</td>\n",
              "      <td>4814</td>\n",
              "      <td>69479</td>\n",
              "      <td>2010</td>\n",
              "      <td>1</td>\n",
              "      <td>1</td>\n",
              "      <td>4</td>\n",
              "      <td>-984.0</td>\n",
              "      <td>70463.0</td>\n",
              "      <td>68738.786090</td>\n",
              "    </tr>\n",
              "    <tr>\n",
              "      <th>...</th>\n",
              "      <td>...</td>\n",
              "      <td>...</td>\n",
              "      <td>...</td>\n",
              "      <td>...</td>\n",
              "      <td>...</td>\n",
              "      <td>...</td>\n",
              "      <td>...</td>\n",
              "      <td>...</td>\n",
              "      <td>...</td>\n",
              "      <td>...</td>\n",
              "      <td>...</td>\n",
              "      <td>...</td>\n",
              "      <td>...</td>\n",
              "      <td>...</td>\n",
              "      <td>...</td>\n",
              "    </tr>\n",
              "    <tr>\n",
              "      <th>2010-12-31 20:00:00</th>\n",
              "      <td>15127</td>\n",
              "      <td>1697</td>\n",
              "      <td>11820</td>\n",
              "      <td>1696</td>\n",
              "      <td>11585</td>\n",
              "      <td>35035</td>\n",
              "      <td>5655</td>\n",
              "      <td>82615</td>\n",
              "      <td>2010</td>\n",
              "      <td>12</td>\n",
              "      <td>31</td>\n",
              "      <td>4</td>\n",
              "      <td>-2074.0</td>\n",
              "      <td>84689.0</td>\n",
              "      <td>82406.845673</td>\n",
              "    </tr>\n",
              "    <tr>\n",
              "      <th>2010-12-31 21:00:00</th>\n",
              "      <td>14807</td>\n",
              "      <td>1623</td>\n",
              "      <td>11532</td>\n",
              "      <td>1643</td>\n",
              "      <td>11243</td>\n",
              "      <td>33852</td>\n",
              "      <td>5488</td>\n",
              "      <td>80188</td>\n",
              "      <td>2010</td>\n",
              "      <td>12</td>\n",
              "      <td>31</td>\n",
              "      <td>4</td>\n",
              "      <td>-2427.0</td>\n",
              "      <td>82615.0</td>\n",
              "      <td>79818.590788</td>\n",
              "    </tr>\n",
              "    <tr>\n",
              "      <th>2010-12-31 22:00:00</th>\n",
              "      <td>14450</td>\n",
              "      <td>1563</td>\n",
              "      <td>11180</td>\n",
              "      <td>1583</td>\n",
              "      <td>10825</td>\n",
              "      <td>32550</td>\n",
              "      <td>5305</td>\n",
              "      <td>77456</td>\n",
              "      <td>2010</td>\n",
              "      <td>12</td>\n",
              "      <td>31</td>\n",
              "      <td>4</td>\n",
              "      <td>-2732.0</td>\n",
              "      <td>80188.0</td>\n",
              "      <td>77851.002083</td>\n",
              "    </tr>\n",
              "    <tr>\n",
              "      <th>2010-12-31 23:00:00</th>\n",
              "      <td>14089</td>\n",
              "      <td>1501</td>\n",
              "      <td>10809</td>\n",
              "      <td>1524</td>\n",
              "      <td>10511</td>\n",
              "      <td>31162</td>\n",
              "      <td>5113</td>\n",
              "      <td>74709</td>\n",
              "      <td>2010</td>\n",
              "      <td>12</td>\n",
              "      <td>31</td>\n",
              "      <td>4</td>\n",
              "      <td>-2747.0</td>\n",
              "      <td>77456.0</td>\n",
              "      <td>75086.227659</td>\n",
              "    </tr>\n",
              "    <tr>\n",
              "      <th>2011-01-01 00:00:00</th>\n",
              "      <td>13694</td>\n",
              "      <td>1436</td>\n",
              "      <td>10480</td>\n",
              "      <td>1454</td>\n",
              "      <td>10042</td>\n",
              "      <td>29871</td>\n",
              "      <td>4910</td>\n",
              "      <td>71887</td>\n",
              "      <td>2011</td>\n",
              "      <td>1</td>\n",
              "      <td>1</td>\n",
              "      <td>5</td>\n",
              "      <td>-2822.0</td>\n",
              "      <td>74709.0</td>\n",
              "      <td>72013.880530</td>\n",
              "    </tr>\n",
              "  </tbody>\n",
              "</table>\n",
              "<p>8758 rows × 15 columns</p>\n",
              "</div>"
            ],
            "text/plain": [
              "                       AEP  DAYTON  ...  Previous_Total    prediction\n",
              "Datetime                            ...                              \n",
              "2010-01-01 00:00:00  15116    1794  ...         81268.0  77645.198358\n",
              "2010-01-01 01:00:00  14585    1748  ...         78140.0  73934.074474\n",
              "2010-01-01 02:00:00  14272    1728  ...         74739.0  71941.132840\n",
              "2010-01-01 03:00:00  14065    1715  ...         72306.0  69865.361760\n",
              "2010-01-01 04:00:00  14047    1723  ...         70463.0  68738.786090\n",
              "...                    ...     ...  ...             ...           ...\n",
              "2010-12-31 20:00:00  15127    1697  ...         84689.0  82406.845673\n",
              "2010-12-31 21:00:00  14807    1623  ...         82615.0  79818.590788\n",
              "2010-12-31 22:00:00  14450    1563  ...         80188.0  77851.002083\n",
              "2010-12-31 23:00:00  14089    1501  ...         77456.0  75086.227659\n",
              "2011-01-01 00:00:00  13694    1436  ...         74709.0  72013.880530\n",
              "\n",
              "[8758 rows x 15 columns]"
            ]
          },
          "metadata": {
            "tags": []
          },
          "execution_count": 280
        }
      ]
    },
    {
      "cell_type": "code",
      "metadata": {
        "id": "XbZgsrFg6LFm",
        "colab_type": "code",
        "colab": {}
      },
      "source": [
        "dfb = df1_holdout[['Total','prediction']]"
      ],
      "execution_count": null,
      "outputs": []
    },
    {
      "cell_type": "code",
      "metadata": {
        "id": "5fkOkhwM6Rsl",
        "colab_type": "code",
        "colab": {
          "base_uri": "https://localhost:8080/",
          "height": 578
        },
        "outputId": "663fdb57-f548-4e96-9a02-54167a7220dc"
      },
      "source": [
        "dfb['Compare'] = abs(dfb['Total'] - dfb['prediction'])\n",
        "dfb"
      ],
      "execution_count": null,
      "outputs": [
        {
          "output_type": "stream",
          "text": [
            "/usr/local/lib/python3.6/dist-packages/ipykernel_launcher.py:1: SettingWithCopyWarning: \n",
            "A value is trying to be set on a copy of a slice from a DataFrame.\n",
            "Try using .loc[row_indexer,col_indexer] = value instead\n",
            "\n",
            "See the caveats in the documentation: https://pandas.pydata.org/pandas-docs/stable/user_guide/indexing.html#returning-a-view-versus-a-copy\n",
            "  \"\"\"Entry point for launching an IPython kernel.\n"
          ],
          "name": "stderr"
        },
        {
          "output_type": "execute_result",
          "data": {
            "text/html": [
              "<div>\n",
              "<style scoped>\n",
              "    .dataframe tbody tr th:only-of-type {\n",
              "        vertical-align: middle;\n",
              "    }\n",
              "\n",
              "    .dataframe tbody tr th {\n",
              "        vertical-align: top;\n",
              "    }\n",
              "\n",
              "    .dataframe thead th {\n",
              "        text-align: right;\n",
              "    }\n",
              "</style>\n",
              "<table border=\"1\" class=\"dataframe\">\n",
              "  <thead>\n",
              "    <tr style=\"text-align: right;\">\n",
              "      <th></th>\n",
              "      <th>Total</th>\n",
              "      <th>prediction</th>\n",
              "      <th>Compare</th>\n",
              "    </tr>\n",
              "    <tr>\n",
              "      <th>Datetime</th>\n",
              "      <th></th>\n",
              "      <th></th>\n",
              "      <th></th>\n",
              "    </tr>\n",
              "  </thead>\n",
              "  <tbody>\n",
              "    <tr>\n",
              "      <th>2010-01-01 00:00:00</th>\n",
              "      <td>78140</td>\n",
              "      <td>77761.137982</td>\n",
              "      <td>378.862018</td>\n",
              "    </tr>\n",
              "    <tr>\n",
              "      <th>2010-01-01 01:00:00</th>\n",
              "      <td>74739</td>\n",
              "      <td>73970.220475</td>\n",
              "      <td>768.779525</td>\n",
              "    </tr>\n",
              "    <tr>\n",
              "      <th>2010-01-01 02:00:00</th>\n",
              "      <td>72306</td>\n",
              "      <td>72225.693130</td>\n",
              "      <td>80.306870</td>\n",
              "    </tr>\n",
              "    <tr>\n",
              "      <th>2010-01-01 03:00:00</th>\n",
              "      <td>70463</td>\n",
              "      <td>69623.376109</td>\n",
              "      <td>839.623891</td>\n",
              "    </tr>\n",
              "    <tr>\n",
              "      <th>2010-01-01 04:00:00</th>\n",
              "      <td>69479</td>\n",
              "      <td>68852.089734</td>\n",
              "      <td>626.910266</td>\n",
              "    </tr>\n",
              "    <tr>\n",
              "      <th>...</th>\n",
              "      <td>...</td>\n",
              "      <td>...</td>\n",
              "      <td>...</td>\n",
              "    </tr>\n",
              "    <tr>\n",
              "      <th>2010-12-31 20:00:00</th>\n",
              "      <td>82615</td>\n",
              "      <td>82688.810934</td>\n",
              "      <td>73.810934</td>\n",
              "    </tr>\n",
              "    <tr>\n",
              "      <th>2010-12-31 21:00:00</th>\n",
              "      <td>80188</td>\n",
              "      <td>79546.239371</td>\n",
              "      <td>641.760629</td>\n",
              "    </tr>\n",
              "    <tr>\n",
              "      <th>2010-12-31 22:00:00</th>\n",
              "      <td>77456</td>\n",
              "      <td>77459.570952</td>\n",
              "      <td>3.570952</td>\n",
              "    </tr>\n",
              "    <tr>\n",
              "      <th>2010-12-31 23:00:00</th>\n",
              "      <td>74709</td>\n",
              "      <td>75141.731713</td>\n",
              "      <td>432.731713</td>\n",
              "    </tr>\n",
              "    <tr>\n",
              "      <th>2011-01-01 00:00:00</th>\n",
              "      <td>71887</td>\n",
              "      <td>71983.752481</td>\n",
              "      <td>96.752481</td>\n",
              "    </tr>\n",
              "  </tbody>\n",
              "</table>\n",
              "<p>8758 rows × 3 columns</p>\n",
              "</div>"
            ],
            "text/plain": [
              "                     Total    prediction     Compare\n",
              "Datetime                                            \n",
              "2010-01-01 00:00:00  78140  77761.137982  378.862018\n",
              "2010-01-01 01:00:00  74739  73970.220475  768.779525\n",
              "2010-01-01 02:00:00  72306  72225.693130   80.306870\n",
              "2010-01-01 03:00:00  70463  69623.376109  839.623891\n",
              "2010-01-01 04:00:00  69479  68852.089734  626.910266\n",
              "...                    ...           ...         ...\n",
              "2010-12-31 20:00:00  82615  82688.810934   73.810934\n",
              "2010-12-31 21:00:00  80188  79546.239371  641.760629\n",
              "2010-12-31 22:00:00  77456  77459.570952    3.570952\n",
              "2010-12-31 23:00:00  74709  75141.731713  432.731713\n",
              "2011-01-01 00:00:00  71887  71983.752481   96.752481\n",
              "\n",
              "[8758 rows x 3 columns]"
            ]
          },
          "metadata": {
            "tags": []
          },
          "execution_count": 65
        }
      ]
    },
    {
      "cell_type": "code",
      "metadata": {
        "id": "0y46Pt0K61_d",
        "colab_type": "code",
        "colab": {
          "base_uri": "https://localhost:8080/",
          "height": 363
        },
        "outputId": "faeb8f7e-5fe8-44e8-8b3a-7c440c0cea8b"
      },
      "source": [
        "\n",
        "\n"
      ],
      "execution_count": null,
      "outputs": [
        {
          "output_type": "error",
          "ename": "ModuleNotFoundError",
          "evalue": "ignored",
          "traceback": [
            "\u001b[0;31m---------------------------------------------------------------------------\u001b[0m",
            "\u001b[0;31mModuleNotFoundError\u001b[0m                       Traceback (most recent call last)",
            "\u001b[0;32m<ipython-input-128-1e32199916d2>\u001b[0m in \u001b[0;36m<module>\u001b[0;34m()\u001b[0m\n\u001b[1;32m      1\u001b[0m \u001b[0;31m# DF TO EXCEL\u001b[0m\u001b[0;34m\u001b[0m\u001b[0;34m\u001b[0m\u001b[0;34m\u001b[0m\u001b[0m\n\u001b[1;32m      2\u001b[0m \u001b[0;32mfrom\u001b[0m \u001b[0mpandas\u001b[0m \u001b[0;32mimport\u001b[0m \u001b[0mExcelWriter\u001b[0m\u001b[0;34m\u001b[0m\u001b[0;34m\u001b[0m\u001b[0m\n\u001b[0;32m----> 3\u001b[0;31m \u001b[0;32mimport\u001b[0m \u001b[0mxlsxwriter\u001b[0m\u001b[0;34m\u001b[0m\u001b[0;34m\u001b[0m\u001b[0m\n\u001b[0m\u001b[1;32m      4\u001b[0m \u001b[0;34m\u001b[0m\u001b[0m\n\u001b[1;32m      5\u001b[0m \u001b[0mwriter\u001b[0m \u001b[0;34m=\u001b[0m \u001b[0mpd\u001b[0m\u001b[0;34m.\u001b[0m\u001b[0mExcelWriter\u001b[0m\u001b[0;34m(\u001b[0m\u001b[0;34m'/content/gdrive/My Drive/Energy.xlsx'\u001b[0m\u001b[0;34m,\u001b[0m \u001b[0mengine\u001b[0m\u001b[0;34m=\u001b[0m\u001b[0;34m'xlsxwriter'\u001b[0m\u001b[0;34m)\u001b[0m\u001b[0;34m\u001b[0m\u001b[0;34m\u001b[0m\u001b[0m\n",
            "\u001b[0;31mModuleNotFoundError\u001b[0m: No module named 'xlsxwriter'",
            "",
            "\u001b[0;31m---------------------------------------------------------------------------\u001b[0;32m\nNOTE: If your import is failing due to a missing package, you can\nmanually install dependencies using either !pip or !apt.\n\nTo view examples of installing some common dependencies, click the\n\"Open Examples\" button below.\n\u001b[0;31m---------------------------------------------------------------------------\u001b[0m\n"
          ]
        }
      ]
    },
    {
      "cell_type": "code",
      "metadata": {
        "id": "rjPi3-HX4EB9",
        "colab_type": "code",
        "colab": {
          "base_uri": "https://localhost:8080/",
          "height": 296
        },
        "outputId": "cc3081ec-1c26-4bcb-b735-423582bb65a2"
      },
      "source": [
        "df1_holdout.plot.line(y=['Total','prediction'])"
      ],
      "execution_count": null,
      "outputs": [
        {
          "output_type": "execute_result",
          "data": {
            "text/plain": [
              "<matplotlib.axes._subplots.AxesSubplot at 0x7f0b98a366a0>"
            ]
          },
          "metadata": {
            "tags": []
          },
          "execution_count": 283
        },
        {
          "output_type": "display_data",
          "data": {
            "image/png": "[encoded data removed]",
            "text/plain": [
              "<Figure size 432x288 with 1 Axes>"
            ]
          },
          "metadata": {
            "tags": [],
            "needs_background": "light"
          }
        }
      ]
    },
    {
      "cell_type": "markdown",
      "metadata": {
        "id": "rsq6WNk7_sLn",
        "colab_type": "text"
      },
      "source": [
        "## Linear Regression #2"
      ]
    },
    {
      "cell_type": "code",
      "metadata": {
        "id": "dGDAPK5aIKwo",
        "colab_type": "code",
        "colab": {
          "base_uri": "https://localhost:8080/",
          "height": 34
        },
        "outputId": "a49705f8-6712-4195-88b3-10d026781f82"
      },
      "source": [
        "from sklearn.linear_model import LinearRegression\n",
        "from sklearn.model_selection import TimeSeriesSplit\n",
        "from sklearn.metrics import mean_squared_error\n",
        "from sklearn.model_selection import cross_val_score\n",
        "\n",
        "LR = LinearRegression()\n",
        "TSS = TimeSeriesSplit(n_splits = 3)\n",
        "\n",
        "X = X_train[['Total_Difference', 'Previous_Total']]\n",
        "y = y_train['Total']\n",
        "\n",
        "LR.fit(X, y)\n",
        "\n",
        "y_train['LR_prediction'] = LR.predict(X)\n",
        "\n",
        "cv_results = cross_val_score(LR, X, y, cv=TSS, scoring='neg_mean_squared_error')\n",
        "print((cv_results.mean()), cv_results.std())"
      ],
      "execution_count": null,
      "outputs": [
        {
          "output_type": "stream",
          "text": [
            "-908.9424219295953 805.4179079751646\n"
          ],
          "name": "stdout"
        }
      ]
    },
    {
      "cell_type": "code",
      "metadata": {
        "id": "Wy5IlZf1CQxm",
        "colab_type": "code",
        "colab": {
          "base_uri": "https://localhost:8080/",
          "height": 450
        },
        "outputId": "3b1c6b6c-aa59-4346-9f1d-09e37646fe3d"
      },
      "source": [
        "y_train"
      ],
      "execution_count": null,
      "outputs": [
        {
          "output_type": "execute_result",
          "data": {
            "text/html": [
              "<div>\n",
              "<style scoped>\n",
              "    .dataframe tbody tr th:only-of-type {\n",
              "        vertical-align: middle;\n",
              "    }\n",
              "\n",
              "    .dataframe tbody tr th {\n",
              "        vertical-align: top;\n",
              "    }\n",
              "\n",
              "    .dataframe thead th {\n",
              "        text-align: right;\n",
              "    }\n",
              "</style>\n",
              "<table border=\"1\" class=\"dataframe\">\n",
              "  <thead>\n",
              "    <tr style=\"text-align: right;\">\n",
              "      <th></th>\n",
              "      <th>Total</th>\n",
              "      <th>LR_prediction</th>\n",
              "    </tr>\n",
              "    <tr>\n",
              "      <th>Datetime</th>\n",
              "      <th></th>\n",
              "      <th></th>\n",
              "    </tr>\n",
              "  </thead>\n",
              "  <tbody>\n",
              "    <tr>\n",
              "      <th>2006-01-01 01:00:00</th>\n",
              "      <td>70355</td>\n",
              "      <td>65.366335</td>\n",
              "    </tr>\n",
              "    <tr>\n",
              "      <th>2006-01-01 02:00:00</th>\n",
              "      <td>67869</td>\n",
              "      <td>67879.910558</td>\n",
              "    </tr>\n",
              "    <tr>\n",
              "      <th>2006-01-01 03:00:00</th>\n",
              "      <td>65663</td>\n",
              "      <td>65675.759024</td>\n",
              "    </tr>\n",
              "    <tr>\n",
              "      <th>2006-01-01 04:00:00</th>\n",
              "      <td>64358</td>\n",
              "      <td>64372.142114</td>\n",
              "    </tr>\n",
              "    <tr>\n",
              "      <th>2006-01-01 05:00:00</th>\n",
              "      <td>63860</td>\n",
              "      <td>63874.852318</td>\n",
              "    </tr>\n",
              "    <tr>\n",
              "      <th>...</th>\n",
              "      <td>...</td>\n",
              "      <td>...</td>\n",
              "    </tr>\n",
              "    <tr>\n",
              "      <th>2009-12-31 19:00:00</th>\n",
              "      <td>93838</td>\n",
              "      <td>93829.372022</td>\n",
              "    </tr>\n",
              "    <tr>\n",
              "      <th>2009-12-31 20:00:00</th>\n",
              "      <td>90867</td>\n",
              "      <td>90859.598496</td>\n",
              "    </tr>\n",
              "    <tr>\n",
              "      <th>2009-12-31 21:00:00</th>\n",
              "      <td>87775</td>\n",
              "      <td>87769.987157</td>\n",
              "    </tr>\n",
              "    <tr>\n",
              "      <th>2009-12-31 22:00:00</th>\n",
              "      <td>84686</td>\n",
              "      <td>84683.422287</td>\n",
              "    </tr>\n",
              "    <tr>\n",
              "      <th>2009-12-31 23:00:00</th>\n",
              "      <td>81268</td>\n",
              "      <td>81267.985904</td>\n",
              "    </tr>\n",
              "  </tbody>\n",
              "</table>\n",
              "<p>35055 rows × 2 columns</p>\n",
              "</div>"
            ],
            "text/plain": [
              "                     Total  LR_prediction\n",
              "Datetime                                 \n",
              "2006-01-01 01:00:00  70355      65.366335\n",
              "2006-01-01 02:00:00  67869   67879.910558\n",
              "2006-01-01 03:00:00  65663   65675.759024\n",
              "2006-01-01 04:00:00  64358   64372.142114\n",
              "2006-01-01 05:00:00  63860   63874.852318\n",
              "...                    ...            ...\n",
              "2009-12-31 19:00:00  93838   93829.372022\n",
              "2009-12-31 20:00:00  90867   90859.598496\n",
              "2009-12-31 21:00:00  87775   87769.987157\n",
              "2009-12-31 22:00:00  84686   84683.422287\n",
              "2009-12-31 23:00:00  81268   81267.985904\n",
              "\n",
              "[35055 rows x 2 columns]"
            ]
          },
          "metadata": {
            "tags": []
          },
          "execution_count": 67
        }
      ]
    },
    {
      "cell_type": "code",
      "metadata": {
        "id": "xjMWk2fCCRmj",
        "colab_type": "code",
        "colab": {}
      },
      "source": [
        ""
      ],
      "execution_count": null,
      "outputs": []
    }
  ]
}